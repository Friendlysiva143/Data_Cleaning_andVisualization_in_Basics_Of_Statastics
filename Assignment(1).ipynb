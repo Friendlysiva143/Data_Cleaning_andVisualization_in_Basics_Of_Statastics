{
 "cells": [
  {
   "cell_type": "markdown",
   "id": "a1a685ae-7cca-451b-90f2-2a0a580b514f",
   "metadata": {},
   "source": [
    "# BASIC STATASTICS"
   ]
  },
  {
   "cell_type": "markdown",
   "id": "3ab17f13-4085-40d2-ba1a-ec3e40c5d798",
   "metadata": {},
   "source": [
    "## Descriptive analytics for Numerical Columns "
   ]
  },
  {
   "cell_type": "code",
   "execution_count": 48,
   "id": "ff32b668-a7c4-4e41-ad3b-9b3b889dd232",
   "metadata": {},
   "outputs": [],
   "source": [
    "#importing necessary libraries\n",
    "import pandas as pd\n",
    "import numpy as np\n"
   ]
  },
  {
   "cell_type": "code",
   "execution_count": 2,
   "id": "e43eabab-87af-4be7-a2d8-998e70973a1e",
   "metadata": {},
   "outputs": [],
   "source": [
    "# loading data set into a variable\n",
    "df=pd.read_csv(\"sales_data_with_discounts.csv\")"
   ]
  },
  {
   "cell_type": "code",
   "execution_count": 3,
   "id": "ff00e5ad-d3c3-43a4-b807-d13bc131326c",
   "metadata": {},
   "outputs": [
    {
     "data": {
      "text/html": [
       "<div>\n",
       "<style scoped>\n",
       "    .dataframe tbody tr th:only-of-type {\n",
       "        vertical-align: middle;\n",
       "    }\n",
       "\n",
       "    .dataframe tbody tr th {\n",
       "        vertical-align: top;\n",
       "    }\n",
       "\n",
       "    .dataframe thead th {\n",
       "        text-align: right;\n",
       "    }\n",
       "</style>\n",
       "<table border=\"1\" class=\"dataframe\">\n",
       "  <thead>\n",
       "    <tr style=\"text-align: right;\">\n",
       "      <th></th>\n",
       "      <th>Date</th>\n",
       "      <th>Day</th>\n",
       "      <th>SKU</th>\n",
       "      <th>City</th>\n",
       "      <th>Volume</th>\n",
       "      <th>BU</th>\n",
       "      <th>Brand</th>\n",
       "      <th>Model</th>\n",
       "      <th>Avg Price</th>\n",
       "      <th>Total Sales Value</th>\n",
       "      <th>Discount Rate (%)</th>\n",
       "      <th>Discount Amount</th>\n",
       "      <th>Net Sales Value</th>\n",
       "    </tr>\n",
       "  </thead>\n",
       "  <tbody>\n",
       "    <tr>\n",
       "      <th>0</th>\n",
       "      <td>01-04-2021</td>\n",
       "      <td>Thursday</td>\n",
       "      <td>M01</td>\n",
       "      <td>C</td>\n",
       "      <td>15</td>\n",
       "      <td>Mobiles</td>\n",
       "      <td>RealU</td>\n",
       "      <td>RU-10</td>\n",
       "      <td>12100</td>\n",
       "      <td>181500</td>\n",
       "      <td>11.654820</td>\n",
       "      <td>21153.498820</td>\n",
       "      <td>160346.501180</td>\n",
       "    </tr>\n",
       "    <tr>\n",
       "      <th>1</th>\n",
       "      <td>01-04-2021</td>\n",
       "      <td>Thursday</td>\n",
       "      <td>M02</td>\n",
       "      <td>C</td>\n",
       "      <td>10</td>\n",
       "      <td>Mobiles</td>\n",
       "      <td>RealU</td>\n",
       "      <td>RU-9 Plus</td>\n",
       "      <td>10100</td>\n",
       "      <td>101000</td>\n",
       "      <td>11.560498</td>\n",
       "      <td>11676.102961</td>\n",
       "      <td>89323.897039</td>\n",
       "    </tr>\n",
       "    <tr>\n",
       "      <th>2</th>\n",
       "      <td>01-04-2021</td>\n",
       "      <td>Thursday</td>\n",
       "      <td>M03</td>\n",
       "      <td>C</td>\n",
       "      <td>7</td>\n",
       "      <td>Mobiles</td>\n",
       "      <td>YouM</td>\n",
       "      <td>YM-99</td>\n",
       "      <td>16100</td>\n",
       "      <td>112700</td>\n",
       "      <td>9.456886</td>\n",
       "      <td>10657.910157</td>\n",
       "      <td>102042.089843</td>\n",
       "    </tr>\n",
       "    <tr>\n",
       "      <th>3</th>\n",
       "      <td>01-04-2021</td>\n",
       "      <td>Thursday</td>\n",
       "      <td>M04</td>\n",
       "      <td>C</td>\n",
       "      <td>6</td>\n",
       "      <td>Mobiles</td>\n",
       "      <td>YouM</td>\n",
       "      <td>YM-99 Plus</td>\n",
       "      <td>20100</td>\n",
       "      <td>120600</td>\n",
       "      <td>6.935385</td>\n",
       "      <td>8364.074702</td>\n",
       "      <td>112235.925298</td>\n",
       "    </tr>\n",
       "    <tr>\n",
       "      <th>4</th>\n",
       "      <td>01-04-2021</td>\n",
       "      <td>Thursday</td>\n",
       "      <td>M05</td>\n",
       "      <td>C</td>\n",
       "      <td>3</td>\n",
       "      <td>Mobiles</td>\n",
       "      <td>YouM</td>\n",
       "      <td>YM-98</td>\n",
       "      <td>8100</td>\n",
       "      <td>24300</td>\n",
       "      <td>17.995663</td>\n",
       "      <td>4372.946230</td>\n",
       "      <td>19927.053770</td>\n",
       "    </tr>\n",
       "  </tbody>\n",
       "</table>\n",
       "</div>"
      ],
      "text/plain": [
       "         Date       Day  SKU City  Volume       BU  Brand       Model  \\\n",
       "0  01-04-2021  Thursday  M01    C      15  Mobiles  RealU       RU-10   \n",
       "1  01-04-2021  Thursday  M02    C      10  Mobiles  RealU   RU-9 Plus   \n",
       "2  01-04-2021  Thursday  M03    C       7  Mobiles   YouM       YM-99   \n",
       "3  01-04-2021  Thursday  M04    C       6  Mobiles   YouM  YM-99 Plus   \n",
       "4  01-04-2021  Thursday  M05    C       3  Mobiles   YouM      YM-98    \n",
       "\n",
       "   Avg Price  Total Sales Value  Discount Rate (%)  Discount Amount  \\\n",
       "0      12100             181500          11.654820     21153.498820   \n",
       "1      10100             101000          11.560498     11676.102961   \n",
       "2      16100             112700           9.456886     10657.910157   \n",
       "3      20100             120600           6.935385      8364.074702   \n",
       "4       8100              24300          17.995663      4372.946230   \n",
       "\n",
       "   Net Sales Value  \n",
       "0    160346.501180  \n",
       "1     89323.897039  \n",
       "2    102042.089843  \n",
       "3    112235.925298  \n",
       "4     19927.053770  "
      ]
     },
     "execution_count": 3,
     "metadata": {},
     "output_type": "execute_result"
    }
   ],
   "source": [
    "df.head()"
   ]
  },
  {
   "cell_type": "code",
   "execution_count": 4,
   "id": "2a57d6bb-7816-4f72-ae59-8bf392141086",
   "metadata": {},
   "outputs": [],
   "source": [
    "# Numerical columns in data Frame\n",
    "df_stats=df.select_dtypes(include=[\"int64\",\"float64\"])"
   ]
  },
  {
   "cell_type": "code",
   "execution_count": 5,
   "id": "475e970b-9d3c-413d-9f30-6fa145a1d71a",
   "metadata": {},
   "outputs": [
    {
     "data": {
      "text/html": [
       "<div>\n",
       "<style scoped>\n",
       "    .dataframe tbody tr th:only-of-type {\n",
       "        vertical-align: middle;\n",
       "    }\n",
       "\n",
       "    .dataframe tbody tr th {\n",
       "        vertical-align: top;\n",
       "    }\n",
       "\n",
       "    .dataframe thead th {\n",
       "        text-align: right;\n",
       "    }\n",
       "</style>\n",
       "<table border=\"1\" class=\"dataframe\">\n",
       "  <thead>\n",
       "    <tr style=\"text-align: right;\">\n",
       "      <th></th>\n",
       "      <th>Volume</th>\n",
       "      <th>Avg Price</th>\n",
       "      <th>Total Sales Value</th>\n",
       "      <th>Discount Rate (%)</th>\n",
       "      <th>Discount Amount</th>\n",
       "      <th>Net Sales Value</th>\n",
       "    </tr>\n",
       "  </thead>\n",
       "  <tbody>\n",
       "    <tr>\n",
       "      <th>0</th>\n",
       "      <td>15</td>\n",
       "      <td>12100</td>\n",
       "      <td>181500</td>\n",
       "      <td>11.654820</td>\n",
       "      <td>21153.498820</td>\n",
       "      <td>160346.501180</td>\n",
       "    </tr>\n",
       "    <tr>\n",
       "      <th>1</th>\n",
       "      <td>10</td>\n",
       "      <td>10100</td>\n",
       "      <td>101000</td>\n",
       "      <td>11.560498</td>\n",
       "      <td>11676.102961</td>\n",
       "      <td>89323.897039</td>\n",
       "    </tr>\n",
       "    <tr>\n",
       "      <th>2</th>\n",
       "      <td>7</td>\n",
       "      <td>16100</td>\n",
       "      <td>112700</td>\n",
       "      <td>9.456886</td>\n",
       "      <td>10657.910157</td>\n",
       "      <td>102042.089843</td>\n",
       "    </tr>\n",
       "    <tr>\n",
       "      <th>3</th>\n",
       "      <td>6</td>\n",
       "      <td>20100</td>\n",
       "      <td>120600</td>\n",
       "      <td>6.935385</td>\n",
       "      <td>8364.074702</td>\n",
       "      <td>112235.925298</td>\n",
       "    </tr>\n",
       "    <tr>\n",
       "      <th>4</th>\n",
       "      <td>3</td>\n",
       "      <td>8100</td>\n",
       "      <td>24300</td>\n",
       "      <td>17.995663</td>\n",
       "      <td>4372.946230</td>\n",
       "      <td>19927.053770</td>\n",
       "    </tr>\n",
       "    <tr>\n",
       "      <th>...</th>\n",
       "      <td>...</td>\n",
       "      <td>...</td>\n",
       "      <td>...</td>\n",
       "      <td>...</td>\n",
       "      <td>...</td>\n",
       "      <td>...</td>\n",
       "    </tr>\n",
       "    <tr>\n",
       "      <th>445</th>\n",
       "      <td>2</td>\n",
       "      <td>1300</td>\n",
       "      <td>2600</td>\n",
       "      <td>15.475687</td>\n",
       "      <td>402.367873</td>\n",
       "      <td>2197.632127</td>\n",
       "    </tr>\n",
       "    <tr>\n",
       "      <th>446</th>\n",
       "      <td>6</td>\n",
       "      <td>2600</td>\n",
       "      <td>15600</td>\n",
       "      <td>17.057027</td>\n",
       "      <td>2660.896242</td>\n",
       "      <td>12939.103758</td>\n",
       "    </tr>\n",
       "    <tr>\n",
       "      <th>447</th>\n",
       "      <td>2</td>\n",
       "      <td>1600</td>\n",
       "      <td>3200</td>\n",
       "      <td>18.965550</td>\n",
       "      <td>606.897606</td>\n",
       "      <td>2593.102394</td>\n",
       "    </tr>\n",
       "    <tr>\n",
       "      <th>448</th>\n",
       "      <td>3</td>\n",
       "      <td>1900</td>\n",
       "      <td>5700</td>\n",
       "      <td>16.793014</td>\n",
       "      <td>957.201826</td>\n",
       "      <td>4742.798174</td>\n",
       "    </tr>\n",
       "    <tr>\n",
       "      <th>449</th>\n",
       "      <td>1</td>\n",
       "      <td>3100</td>\n",
       "      <td>3100</td>\n",
       "      <td>15.333300</td>\n",
       "      <td>475.332295</td>\n",
       "      <td>2624.667705</td>\n",
       "    </tr>\n",
       "  </tbody>\n",
       "</table>\n",
       "<p>450 rows × 6 columns</p>\n",
       "</div>"
      ],
      "text/plain": [
       "     Volume  Avg Price  Total Sales Value  Discount Rate (%)  Discount Amount  \\\n",
       "0        15      12100             181500          11.654820     21153.498820   \n",
       "1        10      10100             101000          11.560498     11676.102961   \n",
       "2         7      16100             112700           9.456886     10657.910157   \n",
       "3         6      20100             120600           6.935385      8364.074702   \n",
       "4         3       8100              24300          17.995663      4372.946230   \n",
       "..      ...        ...                ...                ...              ...   \n",
       "445       2       1300               2600          15.475687       402.367873   \n",
       "446       6       2600              15600          17.057027      2660.896242   \n",
       "447       2       1600               3200          18.965550       606.897606   \n",
       "448       3       1900               5700          16.793014       957.201826   \n",
       "449       1       3100               3100          15.333300       475.332295   \n",
       "\n",
       "     Net Sales Value  \n",
       "0      160346.501180  \n",
       "1       89323.897039  \n",
       "2      102042.089843  \n",
       "3      112235.925298  \n",
       "4       19927.053770  \n",
       "..               ...  \n",
       "445      2197.632127  \n",
       "446     12939.103758  \n",
       "447      2593.102394  \n",
       "448      4742.798174  \n",
       "449      2624.667705  \n",
       "\n",
       "[450 rows x 6 columns]"
      ]
     },
     "execution_count": 5,
     "metadata": {},
     "output_type": "execute_result"
    }
   ],
   "source": [
    "# From the below data first column is index column so we neglect it.\n",
    "df_stats"
   ]
  },
  {
   "cell_type": "code",
   "execution_count": 6,
   "id": "e886b7f8-7a6e-4989-bd2b-866e49dcbf2d",
   "metadata": {},
   "outputs": [
    {
     "data": {
      "text/plain": [
       "Volume                   5.066667\n",
       "Avg Price            10453.433333\n",
       "Total Sales Value    33812.835556\n",
       "Discount Rate (%)       15.155242\n",
       "Discount Amount       3346.499424\n",
       "Net Sales Value      30466.336131\n",
       "dtype: float64"
      ]
     },
     "execution_count": 6,
     "metadata": {},
     "output_type": "execute_result"
    }
   ],
   "source": [
    "df_stats.mean() # mean of each numeric column "
   ]
  },
  {
   "cell_type": "code",
   "execution_count": 7,
   "id": "500ad832-7709-406a-9b65-dcfcfe239079",
   "metadata": {},
   "outputs": [
    {
     "data": {
      "text/plain": [
       "Volume                  4.000000\n",
       "Avg Price            1450.000000\n",
       "Total Sales Value    5700.000000\n",
       "Discount Rate (%)      16.577766\n",
       "Discount Amount       988.933733\n",
       "Net Sales Value      4677.788059\n",
       "dtype: float64"
      ]
     },
     "execution_count": 7,
     "metadata": {},
     "output_type": "execute_result"
    }
   ],
   "source": [
    "df_stats.median() # Median for each numeric column "
   ]
  },
  {
   "cell_type": "code",
   "execution_count": 8,
   "id": "e473e14d-9431-463a-9179-bf2ec48861f0",
   "metadata": {},
   "outputs": [
    {
     "data": {
      "text/plain": [
       "Volume                   4.231602\n",
       "Avg Price            18079.904840\n",
       "Total Sales Value    50535.074173\n",
       "Discount Rate (%)        4.220602\n",
       "Discount Amount       4509.902963\n",
       "Net Sales Value      46358.656624\n",
       "dtype: float64"
      ]
     },
     "execution_count": 8,
     "metadata": {},
     "output_type": "execute_result"
    }
   ],
   "source": [
    "df_stats.std() # standard deviation for each numeric column "
   ]
  },
  {
   "cell_type": "code",
   "execution_count": 9,
   "id": "ab9d0427-0b9d-48e4-9862-7308732bfd41",
   "metadata": {},
   "outputs": [
    {
     "data": {
      "text/html": [
       "<div>\n",
       "<style scoped>\n",
       "    .dataframe tbody tr th:only-of-type {\n",
       "        vertical-align: middle;\n",
       "    }\n",
       "\n",
       "    .dataframe tbody tr th {\n",
       "        vertical-align: top;\n",
       "    }\n",
       "\n",
       "    .dataframe thead th {\n",
       "        text-align: right;\n",
       "    }\n",
       "</style>\n",
       "<table border=\"1\" class=\"dataframe\">\n",
       "  <thead>\n",
       "    <tr style=\"text-align: right;\">\n",
       "      <th></th>\n",
       "      <th>Volume</th>\n",
       "      <th>Avg Price</th>\n",
       "      <th>Total Sales Value</th>\n",
       "      <th>Discount Rate (%)</th>\n",
       "      <th>Discount Amount</th>\n",
       "      <th>Net Sales Value</th>\n",
       "    </tr>\n",
       "  </thead>\n",
       "  <tbody>\n",
       "    <tr>\n",
       "      <th>0</th>\n",
       "      <td>3.0</td>\n",
       "      <td>400.0</td>\n",
       "      <td>24300.0</td>\n",
       "      <td>5.007822</td>\n",
       "      <td>69.177942</td>\n",
       "      <td>326.974801</td>\n",
       "    </tr>\n",
       "    <tr>\n",
       "      <th>1</th>\n",
       "      <td>NaN</td>\n",
       "      <td>450.0</td>\n",
       "      <td>NaN</td>\n",
       "      <td>5.055218</td>\n",
       "      <td>73.025199</td>\n",
       "      <td>330.822058</td>\n",
       "    </tr>\n",
       "    <tr>\n",
       "      <th>2</th>\n",
       "      <td>NaN</td>\n",
       "      <td>500.0</td>\n",
       "      <td>NaN</td>\n",
       "      <td>5.059801</td>\n",
       "      <td>93.649161</td>\n",
       "      <td>466.350839</td>\n",
       "    </tr>\n",
       "    <tr>\n",
       "      <th>3</th>\n",
       "      <td>NaN</td>\n",
       "      <td>1300.0</td>\n",
       "      <td>NaN</td>\n",
       "      <td>5.072124</td>\n",
       "      <td>94.682735</td>\n",
       "      <td>485.317265</td>\n",
       "    </tr>\n",
       "    <tr>\n",
       "      <th>4</th>\n",
       "      <td>NaN</td>\n",
       "      <td>8100.0</td>\n",
       "      <td>NaN</td>\n",
       "      <td>5.084108</td>\n",
       "      <td>102.705757</td>\n",
       "      <td>496.607104</td>\n",
       "    </tr>\n",
       "    <tr>\n",
       "      <th>...</th>\n",
       "      <td>...</td>\n",
       "      <td>...</td>\n",
       "      <td>...</td>\n",
       "      <td>...</td>\n",
       "      <td>...</td>\n",
       "      <td>...</td>\n",
       "    </tr>\n",
       "    <tr>\n",
       "      <th>445</th>\n",
       "      <td>NaN</td>\n",
       "      <td>NaN</td>\n",
       "      <td>NaN</td>\n",
       "      <td>19.940610</td>\n",
       "      <td>17900.983733</td>\n",
       "      <td>162603.186379</td>\n",
       "    </tr>\n",
       "    <tr>\n",
       "      <th>446</th>\n",
       "      <td>NaN</td>\n",
       "      <td>NaN</td>\n",
       "      <td>NaN</td>\n",
       "      <td>19.965340</td>\n",
       "      <td>21153.498820</td>\n",
       "      <td>163915.971000</td>\n",
       "    </tr>\n",
       "    <tr>\n",
       "      <th>447</th>\n",
       "      <td>NaN</td>\n",
       "      <td>NaN</td>\n",
       "      <td>NaN</td>\n",
       "      <td>19.976879</td>\n",
       "      <td>21496.675367</td>\n",
       "      <td>163967.080070</td>\n",
       "    </tr>\n",
       "    <tr>\n",
       "      <th>448</th>\n",
       "      <td>NaN</td>\n",
       "      <td>NaN</td>\n",
       "      <td>NaN</td>\n",
       "      <td>19.982257</td>\n",
       "      <td>25328.224204</td>\n",
       "      <td>166263.161348</td>\n",
       "    </tr>\n",
       "    <tr>\n",
       "      <th>449</th>\n",
       "      <td>NaN</td>\n",
       "      <td>NaN</td>\n",
       "      <td>NaN</td>\n",
       "      <td>19.992407</td>\n",
       "      <td>25738.022194</td>\n",
       "      <td>179507.479049</td>\n",
       "    </tr>\n",
       "  </tbody>\n",
       "</table>\n",
       "<p>450 rows × 6 columns</p>\n",
       "</div>"
      ],
      "text/plain": [
       "     Volume  Avg Price  Total Sales Value  Discount Rate (%)  Discount Amount  \\\n",
       "0       3.0      400.0            24300.0           5.007822        69.177942   \n",
       "1       NaN      450.0                NaN           5.055218        73.025199   \n",
       "2       NaN      500.0                NaN           5.059801        93.649161   \n",
       "3       NaN     1300.0                NaN           5.072124        94.682735   \n",
       "4       NaN     8100.0                NaN           5.084108       102.705757   \n",
       "..      ...        ...                ...                ...              ...   \n",
       "445     NaN        NaN                NaN          19.940610     17900.983733   \n",
       "446     NaN        NaN                NaN          19.965340     21153.498820   \n",
       "447     NaN        NaN                NaN          19.976879     21496.675367   \n",
       "448     NaN        NaN                NaN          19.982257     25328.224204   \n",
       "449     NaN        NaN                NaN          19.992407     25738.022194   \n",
       "\n",
       "     Net Sales Value  \n",
       "0         326.974801  \n",
       "1         330.822058  \n",
       "2         466.350839  \n",
       "3         485.317265  \n",
       "4         496.607104  \n",
       "..               ...  \n",
       "445    162603.186379  \n",
       "446    163915.971000  \n",
       "447    163967.080070  \n",
       "448    166263.161348  \n",
       "449    179507.479049  \n",
       "\n",
       "[450 rows x 6 columns]"
      ]
     },
     "execution_count": 9,
     "metadata": {},
     "output_type": "execute_result"
    }
   ],
   "source": [
    "df_stats.mode()  # This is mode of every numerical column \n",
    "# In this Discount Rate (%),Discount Amount,Net Sales Value having different values so it showing multiple values."
   ]
  },
  {
   "cell_type": "markdown",
   "id": "c0848e23-4d48-4060-93f5-4d7d92d04439",
   "metadata": {},
   "source": [
    "## From the Descriptive analysis \n",
    "**Volume:**\tFrom the analysis mean is greater than median so it is light skewed.\n",
    "\n",
    "**Avg Price:** From the avg price mean is much larger than the median  and has hifh standard diviation means the data is spread widely with right tailed or positively skewes\n",
    "\n",
    "**Total Sales Value:** In this the mean is larger than the median having positively skewesd with widely spread data,possibly having outliers.\n",
    "\n",
    "**Discount Rate (%):** In this the median>mean having light left skew.\n",
    "\n",
    "**Discount Amount:** In this mean>> median having high right tail/positively skewed.\n",
    "\n",
    "**Net Sales Value:** In this mean>> median ,having high right skewed withh widely spread data ,possibly having outliers."
   ]
  },
  {
   "cell_type": "markdown",
   "id": "56c26c01-d359-44c7-9b06-ae8e2ace8e19",
   "metadata": {},
   "source": [
    "## Data Visualization"
   ]
  },
  {
   "cell_type": "markdown",
   "id": "58523d56-87a7-40f2-b7df-83a4634240ae",
   "metadata": {},
   "source": [
    "### Histograms"
   ]
  },
  {
   "cell_type": "code",
   "execution_count": 10,
   "id": "b5ffe1d9-6bda-4fcc-9a7f-24d1e13aa477",
   "metadata": {},
   "outputs": [
    {
     "name": "stdout",
     "output_type": "stream",
     "text": [
      "Skewness of volume column: 2.731723626557714\n"
     ]
    },
    {
     "data": {
      "image/png": "[encoded data removed]",
      "text/plain": [
       "<Figure size 640x480 with 1 Axes>"
      ]
     },
     "metadata": {},
     "output_type": "display_data"
    }
   ],
   "source": [
    "df_stats['Volume'].plot(kind='hist',xlabel=\"Volume\",edgecolor=\"black\")\n",
    "print(\"Skewness of volume column:\",df_stats['Volume'].skew())"
   ]
  },
  {
   "cell_type": "code",
   "execution_count": 11,
   "id": "ad42be74-3a60-4c5c-8457-9969a29f56df",
   "metadata": {},
   "outputs": [
    {
     "name": "stdout",
     "output_type": "stream",
     "text": [
      "Skewness of volume column: 1.9088730767759727\n"
     ]
    },
    {
     "data": {
      "image/png": "[encoded data removed]",
      "text/plain": [
       "<Figure size 640x480 with 1 Axes>"
      ]
     },
     "metadata": {},
     "output_type": "display_data"
    }
   ],
   "source": [
    "df_stats['Avg Price'].plot(kind='hist',xlabel=\"Avg Price\",edgecolor=\"black\")\n",
    "print(\"Skewness of volume column:\",df_stats['Avg Price'].skew())"
   ]
  },
  {
   "cell_type": "code",
   "execution_count": 12,
   "id": "bd08f5eb-f062-43cf-9748-7672eb3fd813",
   "metadata": {},
   "outputs": [
    {
     "name": "stdout",
     "output_type": "stream",
     "text": [
      "Skewness of Total Sales Value column: 1.5347293238977937\n"
     ]
    },
    {
     "data": {
      "image/png": "[encoded data removed]",
      "text/plain": [
       "<Figure size 640x480 with 1 Axes>"
      ]
     },
     "metadata": {},
     "output_type": "display_data"
    }
   ],
   "source": [
    "df_stats['Total Sales Value'].plot(kind='hist',xlabel=\"Total Sales Value\",edgecolor=\"black\")\n",
    "print(\"Skewness of Total Sales Value column:\",df_stats['Total Sales Value'].skew())\t"
   ]
  },
  {
   "cell_type": "code",
   "execution_count": 13,
   "id": "6cd2427f-2b7d-4dd7-82db-03edf5f7124a",
   "metadata": {},
   "outputs": [
    {
     "name": "stdout",
     "output_type": "stream",
     "text": [
      "Skewness of Discount Rate (%) column: -1.0622943696988825\n"
     ]
    },
    {
     "data": {
      "image/png": "[encoded data removed]",
      "text/plain": [
       "<Figure size 640x480 with 1 Axes>"
      ]
     },
     "metadata": {},
     "output_type": "display_data"
    }
   ],
   "source": [
    "df_stats['Discount Rate (%)'].plot(kind='hist',xlabel=\"Discount Rate (%)\",edgecolor=\"black\")\n",
    "print(\"Skewness of Discount Rate (%) column:\",df_stats['Discount Rate (%)'].skew())\n"
   ]
  },
  {
   "cell_type": "code",
   "execution_count": 14,
   "id": "ad243397-fa48-43a6-ac68-633e40d6ac36",
   "metadata": {},
   "outputs": [
    {
     "name": "stdout",
     "output_type": "stream",
     "text": [
      "Skewness of Discount Amount column: 1.9130377339538271\n"
     ]
    },
    {
     "data": {
      "image/png": "[encoded data removed]",
      "text/plain": [
       "<Figure size 640x480 with 1 Axes>"
      ]
     },
     "metadata": {},
     "output_type": "display_data"
    }
   ],
   "source": [
    "\n",
    "df_stats['Discount Amount'].plot(kind='hist',xlabel=\"Discount Amount\",edgecolor=\"black\")\n",
    "print(\"Skewness of Discount Amount column:\",df_stats['Discount Amount'].skew())\n",
    "\n"
   ]
  },
  {
   "cell_type": "code",
   "execution_count": 15,
   "id": "26a4458e-a678-4f37-bcc7-d1f679f3ad13",
   "metadata": {},
   "outputs": [
    {
     "name": "stdout",
     "output_type": "stream",
     "text": [
      "Skewness of \tNet Sales Value column: 1.5408217575344376\n"
     ]
    },
    {
     "data": {
      "image/png": "[encoded data removed]",
      "text/plain": [
       "<Figure size 640x480 with 1 Axes>"
      ]
     },
     "metadata": {},
     "output_type": "display_data"
    }
   ],
   "source": [
    "df_stats['Net Sales Value'].plot(kind='hist',xlabel=\"Net Sales Value\",edgecolor=\"black\")\n",
    "print(\"Skewness of \tNet Sales Value column:\",df_stats['Net Sales Value'].skew())"
   ]
  },
  {
   "cell_type": "markdown",
   "id": "172708e0-727e-466d-bfd2-cb07c3c0556e",
   "metadata": {},
   "source": [
    "#### From the above Histograms\n",
    "\n",
    "**Volume:** The volume is mostly low that are more low volume values,nad rarely high volume which is right/positively skewed,possible high value outliers.\n",
    "\n",
    "**Avg Price:** The avg price of the sales is low and less high avg price which is right skewed,it possibly have high value outliers.\n",
    "\n",
    "**Total Sales Value:** Strong positive skew, few very large sales amounts,it possibly have high value outliers.\n",
    "\n",
    "**Discount Rate (%):** Mostly high discount rate,and few low discount values which might be small left skewed,It possibly have low vale outliers.\n",
    "\n",
    "**Discount Amount:** Mostly low amounts, with rare very high discounts ,right skew,it possibly  have high value outliers.\n",
    "\n",
    "**Net Sales Value:** Similar to Total Sales Value, strongly skewed right,It possibly have high value outliers.\n"
   ]
  },
  {
   "cell_type": "code",
   "execution_count": 16,
   "id": "c2cee279-373f-477d-ad6f-f7280339d62d",
   "metadata": {},
   "outputs": [
    {
     "data": {
      "text/html": [
       "<div>\n",
       "<style scoped>\n",
       "    .dataframe tbody tr th:only-of-type {\n",
       "        vertical-align: middle;\n",
       "    }\n",
       "\n",
       "    .dataframe tbody tr th {\n",
       "        vertical-align: top;\n",
       "    }\n",
       "\n",
       "    .dataframe thead th {\n",
       "        text-align: right;\n",
       "    }\n",
       "</style>\n",
       "<table border=\"1\" class=\"dataframe\">\n",
       "  <thead>\n",
       "    <tr style=\"text-align: right;\">\n",
       "      <th></th>\n",
       "      <th>Volume</th>\n",
       "      <th>Avg Price</th>\n",
       "      <th>Total Sales Value</th>\n",
       "      <th>Discount Rate (%)</th>\n",
       "      <th>Discount Amount</th>\n",
       "      <th>Net Sales Value</th>\n",
       "    </tr>\n",
       "  </thead>\n",
       "  <tbody>\n",
       "    <tr>\n",
       "      <th>0</th>\n",
       "      <td>15</td>\n",
       "      <td>12100</td>\n",
       "      <td>181500</td>\n",
       "      <td>11.654820</td>\n",
       "      <td>21153.498820</td>\n",
       "      <td>160346.501180</td>\n",
       "    </tr>\n",
       "    <tr>\n",
       "      <th>1</th>\n",
       "      <td>10</td>\n",
       "      <td>10100</td>\n",
       "      <td>101000</td>\n",
       "      <td>11.560498</td>\n",
       "      <td>11676.102961</td>\n",
       "      <td>89323.897039</td>\n",
       "    </tr>\n",
       "    <tr>\n",
       "      <th>2</th>\n",
       "      <td>7</td>\n",
       "      <td>16100</td>\n",
       "      <td>112700</td>\n",
       "      <td>9.456886</td>\n",
       "      <td>10657.910157</td>\n",
       "      <td>102042.089843</td>\n",
       "    </tr>\n",
       "    <tr>\n",
       "      <th>3</th>\n",
       "      <td>6</td>\n",
       "      <td>20100</td>\n",
       "      <td>120600</td>\n",
       "      <td>6.935385</td>\n",
       "      <td>8364.074702</td>\n",
       "      <td>112235.925298</td>\n",
       "    </tr>\n",
       "    <tr>\n",
       "      <th>4</th>\n",
       "      <td>3</td>\n",
       "      <td>8100</td>\n",
       "      <td>24300</td>\n",
       "      <td>17.995663</td>\n",
       "      <td>4372.946230</td>\n",
       "      <td>19927.053770</td>\n",
       "    </tr>\n",
       "  </tbody>\n",
       "</table>\n",
       "</div>"
      ],
      "text/plain": [
       "   Volume  Avg Price  Total Sales Value  Discount Rate (%)  Discount Amount  \\\n",
       "0      15      12100             181500          11.654820     21153.498820   \n",
       "1      10      10100             101000          11.560498     11676.102961   \n",
       "2       7      16100             112700           9.456886     10657.910157   \n",
       "3       6      20100             120600           6.935385      8364.074702   \n",
       "4       3       8100              24300          17.995663      4372.946230   \n",
       "\n",
       "   Net Sales Value  \n",
       "0    160346.501180  \n",
       "1     89323.897039  \n",
       "2    102042.089843  \n",
       "3    112235.925298  \n",
       "4     19927.053770  "
      ]
     },
     "execution_count": 16,
     "metadata": {},
     "output_type": "execute_result"
    }
   ],
   "source": [
    "df_stats.head()"
   ]
  },
  {
   "cell_type": "markdown",
   "id": "69566cf1-5933-4db9-a2d3-4cc19a2cb351",
   "metadata": {},
   "source": [
    "### Boxplots"
   ]
  },
  {
   "cell_type": "code",
   "execution_count": 17,
   "id": "83cfda3a-11d2-4930-b000-6fa8016f0727",
   "metadata": {},
   "outputs": [
    {
     "data": {
      "text/plain": [
       "<Axes: >"
      ]
     },
     "execution_count": 17,
     "metadata": {},
     "output_type": "execute_result"
    },
    {
     "data": {
      "image/png": "[encoded data removed]",
      "text/plain": [
       "<Figure size 640x480 with 1 Axes>"
      ]
     },
     "metadata": {},
     "output_type": "display_data"
    }
   ],
   "source": [
    "df_stats['Volume'].plot(kind='box')"
   ]
  },
  {
   "cell_type": "code",
   "execution_count": 18,
   "id": "bbdc7c08-94e9-42b1-ad84-09e87b2d6ce6",
   "metadata": {
    "scrolled": true
   },
   "outputs": [
    {
     "name": "stdout",
     "output_type": "stream",
     "text": [
      "Q1:2202.2086453212287,Q3:47847.91285159138,IQR:45645.70420627015\n",
      "presence of outliers= value<-66266.347664084 or values>70670.76495472644\n",
      "No.of outliers 0\n"
     ]
    },
    {
     "data": {
      "text/plain": [
       "Series([], Name: Volume, dtype: int64)"
      ]
     },
     "execution_count": 18,
     "metadata": {},
     "output_type": "execute_result"
    }
   ],
   "source": [
    "import numpy as np\n",
    "Q1, Q3 = np.percentile(df_stats['Net Sales Value'], [25, 75])\n",
    "IQR = Q3 - Q1\n",
    "print(f\"Q1:{Q1},Q3:{Q3},IQR:{IQR}\")\n",
    "print(f\"presence of outliers= value<{Q1-1.5*IQR} or values>{Q1+1.5*IQR}\")\n",
    "outliers = df_stats['Volume'][(df_stats['Volume'] < Q1 - 1.5*IQR) | (df_stats['Volume'] > Q3 + 1.5*IQR)]\n",
    "print(\"No.of outliers\",len(outliers))\n",
    "outliers"
   ]
  },
  {
   "cell_type": "code",
   "execution_count": 19,
   "id": "d72bce0f-7c13-4bf9-90aa-bc8cbc1a5ff7",
   "metadata": {
    "scrolled": true
   },
   "outputs": [
    {
     "data": {
      "text/plain": [
       "<Axes: >"
      ]
     },
     "execution_count": 19,
     "metadata": {},
     "output_type": "execute_result"
    },
    {
     "data": {
      "image/png": "[encoded data removed]",
      "text/plain": [
       "<Figure size 640x480 with 1 Axes>"
      ]
     },
     "metadata": {},
     "output_type": "display_data"
    }
   ],
   "source": [
    "df_stats['Avg Price'].plot(kind='box')"
   ]
  },
  {
   "cell_type": "code",
   "execution_count": 20,
   "id": "bc09961d-edc2-41c4-a128-16125ec6708c",
   "metadata": {
    "scrolled": true
   },
   "outputs": [
    {
     "name": "stdout",
     "output_type": "stream",
     "text": [
      "Q1:2202.2086453212287,Q3:47847.91285159138,IQR:45645.70420627015\n",
      "presence of outliers= value<-66266.347664084 or values>70670.76495472644\n",
      "No.of outliers 0\n"
     ]
    },
    {
     "data": {
      "text/plain": [
       "Series([], Name: Avg Price, dtype: int64)"
      ]
     },
     "execution_count": 20,
     "metadata": {},
     "output_type": "execute_result"
    }
   ],
   "source": [
    "Q1, Q3 = np.percentile(df_stats['Net Sales Value'], [25, 75])\n",
    "IQR = Q3 - Q1\n",
    "print(f\"Q1:{Q1},Q3:{Q3},IQR:{IQR}\")\n",
    "print(f\"presence of outliers= value<{Q1-1.5*IQR} or values>{Q1+1.5*IQR}\")\n",
    "outliers = df_stats['Avg Price'][(df_stats['Avg Price'] < Q1 - 1.5*IQR) | (df_stats['Avg Price'] > Q3 + 1.5*IQR)]\n",
    "print(\"No.of outliers\",len(outliers))\n",
    "outliers"
   ]
  },
  {
   "cell_type": "code",
   "execution_count": 21,
   "id": "ecd1290d-8920-421b-81a5-a97e627b970b",
   "metadata": {},
   "outputs": [
    {
     "data": {
      "text/plain": [
       "<Axes: >"
      ]
     },
     "execution_count": 21,
     "metadata": {},
     "output_type": "execute_result"
    },
    {
     "data": {
      "image/png": "[encoded data removed]",
      "text/plain": [
       "<Figure size 640x480 with 1 Axes>"
      ]
     },
     "metadata": {},
     "output_type": "display_data"
    }
   ],
   "source": [
    "df_stats['Total Sales Value'].plot(kind='box')"
   ]
  },
  {
   "cell_type": "code",
   "execution_count": 22,
   "id": "1d36feab-e4b0-4ef7-85a0-590d24c7a325",
   "metadata": {
    "scrolled": true
   },
   "outputs": [
    {
     "name": "stdout",
     "output_type": "stream",
     "text": [
      "Q1:2202.2086453212287,Q3:47847.91285159138,IQR:45645.70420627015\n",
      "presence of outliers= value<-66266.347664084 or values>70670.76495472644\n",
      "No.of outliers 49\n"
     ]
    },
    {
     "data": {
      "text/plain": [
       "0      181500\n",
       "3      120600\n",
       "6      147300\n",
       "9      180300\n",
       "30     133100\n",
       "33     120600\n",
       "36     147300\n",
       "38     165300\n",
       "39     180300\n",
       "66     196400\n",
       "69     120200\n",
       "93     120600\n",
       "96     147300\n",
       "99     120200\n",
       "126    147300\n",
       "127    162300\n",
       "129    120200\n",
       "153    120600\n",
       "157    162300\n",
       "159    120200\n",
       "180    145200\n",
       "186    147300\n",
       "187    162300\n",
       "188    165300\n",
       "189    180300\n",
       "210    169400\n",
       "216    147300\n",
       "240    181500\n",
       "243    140700\n",
       "246    147300\n",
       "278    165300\n",
       "279    120200\n",
       "300    145200\n",
       "306    147300\n",
       "308    165300\n",
       "309    180300\n",
       "333    120600\n",
       "338    165300\n",
       "339    180300\n",
       "363    140700\n",
       "366    147300\n",
       "369    120200\n",
       "390    133100\n",
       "396    147300\n",
       "399    120200\n",
       "420    157300\n",
       "426    147300\n",
       "428    165300\n",
       "429    120200\n",
       "Name: Total Sales Value, dtype: int64"
      ]
     },
     "execution_count": 22,
     "metadata": {},
     "output_type": "execute_result"
    }
   ],
   "source": [
    "Q1, Q3 = np.percentile(df_stats['Net Sales Value'], [25, 75])\n",
    "IQR = Q3 - Q1\n",
    "print(f\"Q1:{Q1},Q3:{Q3},IQR:{IQR}\")\n",
    "print(f\"presence of outliers= value<{Q1-1.5*IQR} or values>{Q1+1.5*IQR}\")\n",
    "outliers = df_stats['Total Sales Value'][(df_stats['Total Sales Value'] < Q1 - 1.5*IQR) | (df_stats['Total Sales Value'] > Q3 + 1.5*IQR)]\n",
    "print(\"No.of outliers\",len(outliers))\n",
    "outliers"
   ]
  },
  {
   "cell_type": "code",
   "execution_count": 23,
   "id": "45f0e46f-fc88-48fb-93f7-16bc209235c7",
   "metadata": {},
   "outputs": [
    {
     "data": {
      "text/plain": [
       "<Axes: >"
      ]
     },
     "execution_count": 23,
     "metadata": {},
     "output_type": "execute_result"
    },
    {
     "data": {
      "image/png": "[encoded data removed]",
      "text/plain": [
       "<Figure size 640x480 with 1 Axes>"
      ]
     },
     "metadata": {},
     "output_type": "display_data"
    }
   ],
   "source": [
    "df_stats['Discount Rate (%)'].plot(kind='box')"
   ]
  },
  {
   "cell_type": "code",
   "execution_count": 24,
   "id": "311c3cbe-d199-4ade-a353-01140136839d",
   "metadata": {
    "scrolled": true
   },
   "outputs": [
    {
     "name": "stdout",
     "output_type": "stream",
     "text": [
      "Q1:2202.2086453212287,Q3:47847.91285159138,IQR:45645.70420627015\n",
      "presence of outliers= value<-66266.347664084 or values>70670.76495472644\n",
      "No.of outliers 0\n"
     ]
    },
    {
     "data": {
      "text/plain": [
       "Series([], Name: Discount Rate (%), dtype: float64)"
      ]
     },
     "execution_count": 24,
     "metadata": {},
     "output_type": "execute_result"
    }
   ],
   "source": [
    "Q1, Q3 = np.percentile(df_stats['Net Sales Value'], [25, 75])\n",
    "IQR = Q3 - Q1\n",
    "print(f\"Q1:{Q1},Q3:{Q3},IQR:{IQR}\")\n",
    "print(f\"presence of outliers= value<{Q1-1.5*IQR} or values>{Q1+1.5*IQR}\")\n",
    "outliers = df_stats['Discount Rate (%)'][(df_stats['Discount Rate (%)'] < Q1 - 1.5*IQR) | (df_stats['Discount Rate (%)'] > Q3 + 1.5*IQR)]\n",
    "print(\"No.of outliers\",len(outliers))\n",
    "outliers"
   ]
  },
  {
   "cell_type": "code",
   "execution_count": 25,
   "id": "59c50829-0f2e-44af-a88e-233eb78f47b9",
   "metadata": {},
   "outputs": [
    {
     "data": {
      "text/plain": [
       "<Axes: >"
      ]
     },
     "execution_count": 25,
     "metadata": {},
     "output_type": "execute_result"
    },
    {
     "data": {
      "image/png": "[encoded data removed]",
      "text/plain": [
       "<Figure size 640x480 with 1 Axes>"
      ]
     },
     "metadata": {},
     "output_type": "display_data"
    }
   ],
   "source": [
    "df_stats['Discount Amount'].plot(kind='box')\n"
   ]
  },
  {
   "cell_type": "code",
   "execution_count": 26,
   "id": "df36dd87-42c1-4d3e-b39a-527010f9faaf",
   "metadata": {
    "scrolled": true
   },
   "outputs": [
    {
     "name": "stdout",
     "output_type": "stream",
     "text": [
      "Q1:2202.2086453212287,Q3:47847.91285159138,IQR:45645.70420627015\n",
      "presence of outliers= value<-66266.347664084 or values>70670.76495472644\n",
      "Mean 3346.499424342415\n",
      "No.of outliers 0\n"
     ]
    },
    {
     "data": {
      "text/plain": [
       "Series([], Name: Discount Amount, dtype: float64)"
      ]
     },
     "execution_count": 26,
     "metadata": {},
     "output_type": "execute_result"
    }
   ],
   "source": [
    "Q1, Q3 = np.percentile(df_stats['Net Sales Value'], [25, 75])\n",
    "IQR = Q3 - Q1\n",
    "print(f\"Q1:{Q1},Q3:{Q3},IQR:{IQR}\")\n",
    "print(f\"presence of outliers= value<{Q1-1.5*IQR} or values>{Q1+1.5*IQR}\")\n",
    "print(\"Mean\",df_stats['Discount Amount'].mean())\n",
    "outliers = df_stats['Discount Amount'][(df_stats['Discount Amount'] < Q1 - 1.5*IQR) | (df_stats['Discount Amount'] > Q3 + 1.5*IQR)]\n",
    "print(\"No.of outliers\",len(outliers))\n",
    "outliers"
   ]
  },
  {
   "cell_type": "code",
   "execution_count": 27,
   "id": "b532d820-d284-47f1-bc6c-5fe174599cef",
   "metadata": {},
   "outputs": [
    {
     "data": {
      "text/plain": [
       "<Axes: >"
      ]
     },
     "execution_count": 27,
     "metadata": {},
     "output_type": "execute_result"
    },
    {
     "data": {
      "image/png": "[encoded data removed]",
      "text/plain": [
       "<Figure size 640x480 with 1 Axes>"
      ]
     },
     "metadata": {},
     "output_type": "display_data"
    }
   ],
   "source": [
    "df_stats['Net Sales Value'].plot(kind='box')"
   ]
  },
  {
   "cell_type": "code",
   "execution_count": 28,
   "id": "1d270a86-37e5-443f-90e8-33c13684fd5a",
   "metadata": {
    "scrolled": true
   },
   "outputs": [
    {
     "name": "stdout",
     "output_type": "stream",
     "text": [
      "Q1:2202.2086453212287,Q3:47847.91285159138,IQR:45645.70420627015\n",
      "presence of outliers= value<-66266.347664084 or values>70670.76495472644\n",
      "No.of outliers 35\n"
     ]
    },
    {
     "data": {
      "text/plain": [
       "0      160346.501180\n",
       "6      133705.960281\n",
       "9      162399.016267\n",
       "36     139563.638215\n",
       "38     151348.339806\n",
       "39     163915.971000\n",
       "66     179507.479049\n",
       "96     134677.496342\n",
       "126    134731.954625\n",
       "127    152667.358354\n",
       "157    151182.489533\n",
       "180    128021.668141\n",
       "186    134546.434042\n",
       "187    150648.927866\n",
       "188    151300.061501\n",
       "189    162603.186379\n",
       "210    144071.775796\n",
       "216    133691.761681\n",
       "240    155761.977806\n",
       "243    130557.833327\n",
       "246    136485.419091\n",
       "278    154937.485475\n",
       "300    123703.324633\n",
       "306    134934.946692\n",
       "308    154541.087365\n",
       "309    163967.080070\n",
       "338    156895.968772\n",
       "339    166263.161348\n",
       "363    127965.990988\n",
       "366    134024.219259\n",
       "390    116881.405280\n",
       "396    133917.772667\n",
       "420    141315.267719\n",
       "426    138449.922039\n",
       "428    156330.969890\n",
       "Name: Net Sales Value, dtype: float64"
      ]
     },
     "execution_count": 28,
     "metadata": {},
     "output_type": "execute_result"
    }
   ],
   "source": [
    "Q1, Q3 = np.percentile(df_stats['Net Sales Value'], [25, 75])\n",
    "IQR = Q3 - Q1\n",
    "print(f\"Q1:{Q1},Q3:{Q3},IQR:{IQR}\")\n",
    "print(f\"presence of outliers= value<{Q1-1.5*IQR} or values>{Q1+1.5*IQR}\")\n",
    "outliers = df_stats['Net Sales Value'][(df_stats['Net Sales Value'] < Q1 - 1.5*IQR) | (df_stats['Net Sales Value'] > Q3 + 1.5*IQR)]\n",
    "print(\"No.of outliers\",len(outliers))\n",
    "outliers"
   ]
  },
  {
   "cell_type": "markdown",
   "id": "5cac65fe-7e0b-4f8f-97f2-6abfaeea254e",
   "metadata": {},
   "source": [
    "* From the above box plots there are many outliers in the data set ,which are mostly high values which are values greater than the \"Q3+1.5*IQR\" except discount Rate % having small outliers which are less than the \"Q1-1.5*IQR\"\n"
   ]
  },
  {
   "cell_type": "markdown",
   "id": "a4a7bac7-f75b-4966-b1d1-d7da07adb2bb",
   "metadata": {},
   "source": [
    "## catogorical columns data\n"
   ]
  },
  {
   "cell_type": "code",
   "execution_count": 29,
   "id": "28f9800a-676c-43d8-8d21-2bcc5f479723",
   "metadata": {},
   "outputs": [
    {
     "data": {
      "text/html": [
       "<div>\n",
       "<style scoped>\n",
       "    .dataframe tbody tr th:only-of-type {\n",
       "        vertical-align: middle;\n",
       "    }\n",
       "\n",
       "    .dataframe tbody tr th {\n",
       "        vertical-align: top;\n",
       "    }\n",
       "\n",
       "    .dataframe thead th {\n",
       "        text-align: right;\n",
       "    }\n",
       "</style>\n",
       "<table border=\"1\" class=\"dataframe\">\n",
       "  <thead>\n",
       "    <tr style=\"text-align: right;\">\n",
       "      <th></th>\n",
       "      <th>Date</th>\n",
       "      <th>Day</th>\n",
       "      <th>SKU</th>\n",
       "      <th>City</th>\n",
       "      <th>BU</th>\n",
       "      <th>Brand</th>\n",
       "      <th>Model</th>\n",
       "    </tr>\n",
       "  </thead>\n",
       "  <tbody>\n",
       "    <tr>\n",
       "      <th>0</th>\n",
       "      <td>01-04-2021</td>\n",
       "      <td>Thursday</td>\n",
       "      <td>M01</td>\n",
       "      <td>C</td>\n",
       "      <td>Mobiles</td>\n",
       "      <td>RealU</td>\n",
       "      <td>RU-10</td>\n",
       "    </tr>\n",
       "    <tr>\n",
       "      <th>1</th>\n",
       "      <td>01-04-2021</td>\n",
       "      <td>Thursday</td>\n",
       "      <td>M02</td>\n",
       "      <td>C</td>\n",
       "      <td>Mobiles</td>\n",
       "      <td>RealU</td>\n",
       "      <td>RU-9 Plus</td>\n",
       "    </tr>\n",
       "    <tr>\n",
       "      <th>2</th>\n",
       "      <td>01-04-2021</td>\n",
       "      <td>Thursday</td>\n",
       "      <td>M03</td>\n",
       "      <td>C</td>\n",
       "      <td>Mobiles</td>\n",
       "      <td>YouM</td>\n",
       "      <td>YM-99</td>\n",
       "    </tr>\n",
       "    <tr>\n",
       "      <th>3</th>\n",
       "      <td>01-04-2021</td>\n",
       "      <td>Thursday</td>\n",
       "      <td>M04</td>\n",
       "      <td>C</td>\n",
       "      <td>Mobiles</td>\n",
       "      <td>YouM</td>\n",
       "      <td>YM-99 Plus</td>\n",
       "    </tr>\n",
       "    <tr>\n",
       "      <th>4</th>\n",
       "      <td>01-04-2021</td>\n",
       "      <td>Thursday</td>\n",
       "      <td>M05</td>\n",
       "      <td>C</td>\n",
       "      <td>Mobiles</td>\n",
       "      <td>YouM</td>\n",
       "      <td>YM-98</td>\n",
       "    </tr>\n",
       "    <tr>\n",
       "      <th>...</th>\n",
       "      <td>...</td>\n",
       "      <td>...</td>\n",
       "      <td>...</td>\n",
       "      <td>...</td>\n",
       "      <td>...</td>\n",
       "      <td>...</td>\n",
       "      <td>...</td>\n",
       "    </tr>\n",
       "    <tr>\n",
       "      <th>445</th>\n",
       "      <td>15-04-2021</td>\n",
       "      <td>Thursday</td>\n",
       "      <td>L06</td>\n",
       "      <td>C</td>\n",
       "      <td>Lifestyle</td>\n",
       "      <td>Jeera</td>\n",
       "      <td>M-Casuals</td>\n",
       "    </tr>\n",
       "    <tr>\n",
       "      <th>446</th>\n",
       "      <td>15-04-2021</td>\n",
       "      <td>Thursday</td>\n",
       "      <td>L07</td>\n",
       "      <td>C</td>\n",
       "      <td>Lifestyle</td>\n",
       "      <td>Viva</td>\n",
       "      <td>W-Western</td>\n",
       "    </tr>\n",
       "    <tr>\n",
       "      <th>447</th>\n",
       "      <td>15-04-2021</td>\n",
       "      <td>Thursday</td>\n",
       "      <td>L08</td>\n",
       "      <td>C</td>\n",
       "      <td>Lifestyle</td>\n",
       "      <td>Viva</td>\n",
       "      <td>W-Lounge</td>\n",
       "    </tr>\n",
       "    <tr>\n",
       "      <th>448</th>\n",
       "      <td>15-04-2021</td>\n",
       "      <td>Thursday</td>\n",
       "      <td>L09</td>\n",
       "      <td>C</td>\n",
       "      <td>Lifestyle</td>\n",
       "      <td>Jeera</td>\n",
       "      <td>M-Formals</td>\n",
       "    </tr>\n",
       "    <tr>\n",
       "      <th>449</th>\n",
       "      <td>15-04-2021</td>\n",
       "      <td>Thursday</td>\n",
       "      <td>L10</td>\n",
       "      <td>C</td>\n",
       "      <td>Lifestyle</td>\n",
       "      <td>Jeera</td>\n",
       "      <td>M-Shoes</td>\n",
       "    </tr>\n",
       "  </tbody>\n",
       "</table>\n",
       "<p>450 rows × 7 columns</p>\n",
       "</div>"
      ],
      "text/plain": [
       "           Date       Day  SKU City         BU  Brand       Model\n",
       "0    01-04-2021  Thursday  M01    C    Mobiles  RealU       RU-10\n",
       "1    01-04-2021  Thursday  M02    C    Mobiles  RealU   RU-9 Plus\n",
       "2    01-04-2021  Thursday  M03    C    Mobiles   YouM       YM-99\n",
       "3    01-04-2021  Thursday  M04    C    Mobiles   YouM  YM-99 Plus\n",
       "4    01-04-2021  Thursday  M05    C    Mobiles   YouM      YM-98 \n",
       "..          ...       ...  ...  ...        ...    ...         ...\n",
       "445  15-04-2021  Thursday  L06    C  Lifestyle  Jeera   M-Casuals\n",
       "446  15-04-2021  Thursday  L07    C  Lifestyle   Viva   W-Western\n",
       "447  15-04-2021  Thursday  L08    C  Lifestyle   Viva    W-Lounge\n",
       "448  15-04-2021  Thursday  L09    C  Lifestyle  Jeera   M-Formals\n",
       "449  15-04-2021  Thursday  L10    C  Lifestyle  Jeera     M-Shoes\n",
       "\n",
       "[450 rows x 7 columns]"
      ]
     },
     "execution_count": 29,
     "metadata": {},
     "output_type": "execute_result"
    }
   ],
   "source": [
    "df_cat=df.select_dtypes(include=\"object\")\n",
    "df_cat"
   ]
  },
  {
   "cell_type": "markdown",
   "id": "f29c12b1-b847-4a95-9069-7ff0e3b28165",
   "metadata": {},
   "source": [
    "### Bar Plots"
   ]
  },
  {
   "cell_type": "code",
   "execution_count": 30,
   "id": "5944c57d-daa3-418b-8dff-2a6479e97899",
   "metadata": {
    "scrolled": true
   },
   "outputs": [
    {
     "data": {
      "text/plain": [
       "Date\n",
       "01-04-2021    30\n",
       "02-04-2021    30\n",
       "03-04-2021    30\n",
       "04-04-2021    30\n",
       "05-04-2021    30\n",
       "06-04-2021    30\n",
       "07-04-2021    30\n",
       "08-04-2021    30\n",
       "09-04-2021    30\n",
       "10-04-2021    30\n",
       "11-04-2021    30\n",
       "12-04-2021    30\n",
       "13-04-2021    30\n",
       "14-04-2021    30\n",
       "15-04-2021    30\n",
       "Name: count, dtype: int64"
      ]
     },
     "execution_count": 30,
     "metadata": {},
     "output_type": "execute_result"
    },
    {
     "data": {
      "image/png": "[encoded data removed]",
      "text/plain": [
       "<Figure size 640x480 with 1 Axes>"
      ]
     },
     "metadata": {},
     "output_type": "display_data"
    }
   ],
   "source": [
    "df_cat['Date'].value_counts().plot(kind='bar')\n",
    "df_cat['Date'].value_counts()"
   ]
  },
  {
   "cell_type": "code",
   "execution_count": 31,
   "id": "b53b6664-8534-468d-bf48-f26fcbcfd96f",
   "metadata": {},
   "outputs": [
    {
     "data": {
      "text/plain": [
       "Day\n",
       "Thursday     90\n",
       "Friday       60\n",
       "Saturday     60\n",
       "Sunday       60\n",
       "Monday       60\n",
       "Tuesday      60\n",
       "Wednesday    60\n",
       "Name: count, dtype: int64"
      ]
     },
     "execution_count": 31,
     "metadata": {},
     "output_type": "execute_result"
    },
    {
     "data": {
      "image/png": "[encoded data removed]",
      "text/plain": [
       "<Figure size 640x480 with 1 Axes>"
      ]
     },
     "metadata": {},
     "output_type": "display_data"
    }
   ],
   "source": [
    "df_cat['Day'].value_counts().plot(kind='bar')\n",
    "df_cat['Day'].value_counts()"
   ]
  },
  {
   "cell_type": "code",
   "execution_count": 32,
   "id": "003ae8d0-6ada-4477-818a-1328d1294adb",
   "metadata": {
    "scrolled": true
   },
   "outputs": [
    {
     "data": {
      "text/plain": [
       "SKU\n",
       "M01    15\n",
       "M02    15\n",
       "M03    15\n",
       "M04    15\n",
       "M05    15\n",
       "M06    15\n",
       "M07    15\n",
       "M08    15\n",
       "M09    15\n",
       "M10    15\n",
       "F01    15\n",
       "F02    15\n",
       "F03    15\n",
       "F04    15\n",
       "F05    15\n",
       "F06    15\n",
       "F07    15\n",
       "F08    15\n",
       "F09    15\n",
       "F10    15\n",
       "L01    15\n",
       "L02    15\n",
       "L03    15\n",
       "L04    15\n",
       "L05    15\n",
       "L06    15\n",
       "L07    15\n",
       "L08    15\n",
       "L09    15\n",
       "L10    15\n",
       "Name: count, dtype: int64"
      ]
     },
     "execution_count": 32,
     "metadata": {},
     "output_type": "execute_result"
    },
    {
     "data": {
      "image/png": "[encoded data removed]",
      "text/plain": [
       "<Figure size 640x480 with 1 Axes>"
      ]
     },
     "metadata": {},
     "output_type": "display_data"
    }
   ],
   "source": [
    "df_cat['SKU'].value_counts().plot(kind='bar')\n",
    "df_cat['SKU'].value_counts()"
   ]
  },
  {
   "cell_type": "code",
   "execution_count": 33,
   "id": "9d36645d-c284-4282-af98-12bc5e4f44b4",
   "metadata": {},
   "outputs": [
    {
     "data": {
      "text/plain": [
       "City\n",
       "C    450\n",
       "Name: count, dtype: int64"
      ]
     },
     "execution_count": 33,
     "metadata": {},
     "output_type": "execute_result"
    },
    {
     "data": {
      "image/png": "[encoded data removed]",
      "text/plain": [
       "<Figure size 640x480 with 1 Axes>"
      ]
     },
     "metadata": {},
     "output_type": "display_data"
    }
   ],
   "source": [
    "df_cat['City'].value_counts().plot(kind='bar')\n",
    "df_cat['City'].value_counts()"
   ]
  },
  {
   "cell_type": "code",
   "execution_count": 34,
   "id": "34c9ae0d-0011-465e-926b-fb154daf694f",
   "metadata": {},
   "outputs": [
    {
     "data": {
      "text/plain": [
       "BU\n",
       "Mobiles      150\n",
       "FMCG         150\n",
       "Lifestyle    150\n",
       "Name: count, dtype: int64"
      ]
     },
     "execution_count": 34,
     "metadata": {},
     "output_type": "execute_result"
    },
    {
     "data": {
      "image/png": "[encoded data removed]",
      "text/plain": [
       "<Figure size 640x480 with 1 Axes>"
      ]
     },
     "metadata": {},
     "output_type": "display_data"
    }
   ],
   "source": [
    "df_cat['BU'].value_counts().plot(kind='bar')\n",
    "df_cat['BU'].value_counts()"
   ]
  },
  {
   "cell_type": "code",
   "execution_count": 35,
   "id": "dfb90bb9-307e-4a30-92c2-16bf9ccf7dc3",
   "metadata": {
    "scrolled": true
   },
   "outputs": [
    {
     "data": {
      "text/plain": [
       "Brand\n",
       "Jeera      90\n",
       "Viva       60\n",
       "Gear       60\n",
       "RealU      45\n",
       "YouM       45\n",
       "Babaji     45\n",
       "Vedic      45\n",
       "Orange     30\n",
       "Sumsang    30\n",
       "Name: count, dtype: int64"
      ]
     },
     "execution_count": 35,
     "metadata": {},
     "output_type": "execute_result"
    },
    {
     "data": {
      "image/png": "[encoded data removed]",
      "text/plain": [
       "<Figure size 640x480 with 1 Axes>"
      ]
     },
     "metadata": {},
     "output_type": "display_data"
    }
   ],
   "source": [
    "df_cat['Brand'].value_counts().plot(kind='bar')\n",
    "df_cat['Brand'].value_counts()"
   ]
  },
  {
   "cell_type": "code",
   "execution_count": 36,
   "id": "d8dea497-0343-40ad-ab00-78cd6ee7ff89",
   "metadata": {
    "scrolled": true
   },
   "outputs": [
    {
     "data": {
      "text/plain": [
       "Model\n",
       "RU-10             15\n",
       "RU-9 Plus         15\n",
       "YM-99             15\n",
       "YM-99 Plus        15\n",
       "YM-98             15\n",
       "RU-9              15\n",
       "S-20              15\n",
       "S-21              15\n",
       "O-10              15\n",
       "O-11              15\n",
       "Babaji Oil        15\n",
       "Vedic Cream       15\n",
       "Vedic Shampoo     15\n",
       "Babaji Shampoo    15\n",
       "Babaji Cream      15\n",
       "Vedic Oil         15\n",
       "Gear Oil          15\n",
       "Gear Cream        15\n",
       "Gear Shampoo      15\n",
       "Gear BB Cream     15\n",
       "M- T Shirts       15\n",
       "M- Inners         15\n",
       "W-Casuals         15\n",
       "W-Inners          15\n",
       "M-Jeans           15\n",
       "M-Casuals         15\n",
       "W-Western         15\n",
       "W-Lounge          15\n",
       "M-Formals         15\n",
       "M-Shoes           15\n",
       "Name: count, dtype: int64"
      ]
     },
     "execution_count": 36,
     "metadata": {},
     "output_type": "execute_result"
    },
    {
     "data": {
      "image/png": "[encoded data removed]",
      "text/plain": [
       "<Figure size 640x480 with 1 Axes>"
      ]
     },
     "metadata": {},
     "output_type": "display_data"
    }
   ],
   "source": [
    "df_cat['Model'].value_counts().plot(kind='bar')\n",
    "df_cat['Model'].value_counts()"
   ]
  },
  {
   "cell_type": "markdown",
   "id": "bd1a2c7e-f7ee-4e3b-8b25-0bf3e91918fe",
   "metadata": {},
   "source": [
    "**Form the above bar charts**\n",
    "\n",
    "**Date:** the number of sales in each date are equally distributed.\n",
    "\n",
    "**Day:** In this on thurshday there are more sales are happenning and  other days having equal number of sales.\n",
    "\n",
    "**Sku:** In this the data is distributed equally.\n",
    "\n",
    "**City:** In this there is only one value which is c so there there is no problem or use  with this column.\n",
    "\n",
    "**BU:** In tis column also the data is equally disttributed means equal no. of sales.\n",
    "\n",
    "**Brand:** In his column the zeera brand has high sales and orange and samsung has low sales. From the the saled possibly depends on the Brand.\n",
    "\n",
    "**Model** : In thsi column also having no difference that all the models having equally distributed sales."
   ]
  },
  {
   "cell_type": "markdown",
   "id": "0012ae2c-66c5-4242-b392-b029aa1936c9",
   "metadata": {},
   "source": [
    "## Standardization of Numerical variables\n",
    "* stndardization(Z-score normalization):\n",
    "* Formul z=x-mu/sigma\n",
    "  x=data point,mu=mean of the column ,sigma =standard deviation\n",
    "* Tis transform ensures that:\n",
    "   * each column has mean =0\n",
    "   * each column standard deviation =1\n"
   ]
  },
  {
   "cell_type": "code",
   "execution_count": 37,
   "id": "af6f1465-fb0f-4088-a6c9-8a46531d2388",
   "metadata": {},
   "outputs": [
    {
     "data": {
      "text/html": [
       "<div>\n",
       "<style scoped>\n",
       "    .dataframe tbody tr th:only-of-type {\n",
       "        vertical-align: middle;\n",
       "    }\n",
       "\n",
       "    .dataframe tbody tr th {\n",
       "        vertical-align: top;\n",
       "    }\n",
       "\n",
       "    .dataframe thead th {\n",
       "        text-align: right;\n",
       "    }\n",
       "</style>\n",
       "<table border=\"1\" class=\"dataframe\">\n",
       "  <thead>\n",
       "    <tr style=\"text-align: right;\">\n",
       "      <th></th>\n",
       "      <th>Volume</th>\n",
       "      <th>Avg Price</th>\n",
       "      <th>Total Sales Value</th>\n",
       "      <th>Discount Rate (%)</th>\n",
       "      <th>Discount Amount</th>\n",
       "      <th>Net Sales Value</th>\n",
       "    </tr>\n",
       "  </thead>\n",
       "  <tbody>\n",
       "    <tr>\n",
       "      <th>0</th>\n",
       "      <td>15</td>\n",
       "      <td>12100</td>\n",
       "      <td>181500</td>\n",
       "      <td>11.654820</td>\n",
       "      <td>21153.498820</td>\n",
       "      <td>160346.501180</td>\n",
       "    </tr>\n",
       "    <tr>\n",
       "      <th>1</th>\n",
       "      <td>10</td>\n",
       "      <td>10100</td>\n",
       "      <td>101000</td>\n",
       "      <td>11.560498</td>\n",
       "      <td>11676.102961</td>\n",
       "      <td>89323.897039</td>\n",
       "    </tr>\n",
       "    <tr>\n",
       "      <th>2</th>\n",
       "      <td>7</td>\n",
       "      <td>16100</td>\n",
       "      <td>112700</td>\n",
       "      <td>9.456886</td>\n",
       "      <td>10657.910157</td>\n",
       "      <td>102042.089843</td>\n",
       "    </tr>\n",
       "    <tr>\n",
       "      <th>3</th>\n",
       "      <td>6</td>\n",
       "      <td>20100</td>\n",
       "      <td>120600</td>\n",
       "      <td>6.935385</td>\n",
       "      <td>8364.074702</td>\n",
       "      <td>112235.925298</td>\n",
       "    </tr>\n",
       "    <tr>\n",
       "      <th>4</th>\n",
       "      <td>3</td>\n",
       "      <td>8100</td>\n",
       "      <td>24300</td>\n",
       "      <td>17.995663</td>\n",
       "      <td>4372.946230</td>\n",
       "      <td>19927.053770</td>\n",
       "    </tr>\n",
       "  </tbody>\n",
       "</table>\n",
       "</div>"
      ],
      "text/plain": [
       "   Volume  Avg Price  Total Sales Value  Discount Rate (%)  Discount Amount  \\\n",
       "0      15      12100             181500          11.654820     21153.498820   \n",
       "1      10      10100             101000          11.560498     11676.102961   \n",
       "2       7      16100             112700           9.456886     10657.910157   \n",
       "3       6      20100             120600           6.935385      8364.074702   \n",
       "4       3       8100              24300          17.995663      4372.946230   \n",
       "\n",
       "   Net Sales Value  \n",
       "0    160346.501180  \n",
       "1     89323.897039  \n",
       "2    102042.089843  \n",
       "3    112235.925298  \n",
       "4     19927.053770  "
      ]
     },
     "execution_count": 37,
     "metadata": {},
     "output_type": "execute_result"
    }
   ],
   "source": [
    "df_stats.head() # Numeical column in the given sales and siscount data "
   ]
  },
  {
   "cell_type": "code",
   "execution_count": 38,
   "id": "acfa1f9b-76a6-4146-bb16-8900601896e4",
   "metadata": {},
   "outputs": [
    {
     "data": {
      "text/html": [
       "<div>\n",
       "<style scoped>\n",
       "    .dataframe tbody tr th:only-of-type {\n",
       "        vertical-align: middle;\n",
       "    }\n",
       "\n",
       "    .dataframe tbody tr th {\n",
       "        vertical-align: top;\n",
       "    }\n",
       "\n",
       "    .dataframe thead th {\n",
       "        text-align: right;\n",
       "    }\n",
       "</style>\n",
       "<table border=\"1\" class=\"dataframe\">\n",
       "  <thead>\n",
       "    <tr style=\"text-align: right;\">\n",
       "      <th></th>\n",
       "      <th>Volume</th>\n",
       "      <th>Avg Price</th>\n",
       "      <th>Total Sales Value</th>\n",
       "      <th>Discount Rate (%)</th>\n",
       "      <th>Discount Amount</th>\n",
       "      <th>Net Sales Value</th>\n",
       "      <th>new_Volume</th>\n",
       "      <th>new_Avg Price</th>\n",
       "      <th>new_Total Sales Value</th>\n",
       "      <th>new_Discount Rate (%)</th>\n",
       "      <th>new_Discount Amount</th>\n",
       "      <th>new_Net Sales Value</th>\n",
       "    </tr>\n",
       "  </thead>\n",
       "  <tbody>\n",
       "    <tr>\n",
       "      <th>0</th>\n",
       "      <td>15</td>\n",
       "      <td>12100</td>\n",
       "      <td>181500</td>\n",
       "      <td>11.654820</td>\n",
       "      <td>21153.498820</td>\n",
       "      <td>160346.501180</td>\n",
       "      <td>2.347417</td>\n",
       "      <td>0.091072</td>\n",
       "      <td>2.922469</td>\n",
       "      <td>-0.829365</td>\n",
       "      <td>3.948422</td>\n",
       "      <td>2.801638</td>\n",
       "    </tr>\n",
       "    <tr>\n",
       "      <th>1</th>\n",
       "      <td>10</td>\n",
       "      <td>10100</td>\n",
       "      <td>101000</td>\n",
       "      <td>11.560498</td>\n",
       "      <td>11676.102961</td>\n",
       "      <td>89323.897039</td>\n",
       "      <td>1.165831</td>\n",
       "      <td>-0.019548</td>\n",
       "      <td>1.329516</td>\n",
       "      <td>-0.851714</td>\n",
       "      <td>1.846958</td>\n",
       "      <td>1.269613</td>\n",
       "    </tr>\n",
       "    <tr>\n",
       "      <th>2</th>\n",
       "      <td>7</td>\n",
       "      <td>16100</td>\n",
       "      <td>112700</td>\n",
       "      <td>9.456886</td>\n",
       "      <td>10657.910157</td>\n",
       "      <td>102042.089843</td>\n",
       "      <td>0.456880</td>\n",
       "      <td>0.312312</td>\n",
       "      <td>1.561038</td>\n",
       "      <td>-1.350129</td>\n",
       "      <td>1.621190</td>\n",
       "      <td>1.543957</td>\n",
       "    </tr>\n",
       "    <tr>\n",
       "      <th>3</th>\n",
       "      <td>6</td>\n",
       "      <td>20100</td>\n",
       "      <td>120600</td>\n",
       "      <td>6.935385</td>\n",
       "      <td>8364.074702</td>\n",
       "      <td>112235.925298</td>\n",
       "      <td>0.220563</td>\n",
       "      <td>0.533552</td>\n",
       "      <td>1.717365</td>\n",
       "      <td>-1.947555</td>\n",
       "      <td>1.112568</td>\n",
       "      <td>1.763847</td>\n",
       "    </tr>\n",
       "    <tr>\n",
       "      <th>4</th>\n",
       "      <td>3</td>\n",
       "      <td>8100</td>\n",
       "      <td>24300</td>\n",
       "      <td>17.995663</td>\n",
       "      <td>4372.946230</td>\n",
       "      <td>19927.053770</td>\n",
       "      <td>-0.488389</td>\n",
       "      <td>-0.130168</td>\n",
       "      <td>-0.188242</td>\n",
       "      <td>0.672990</td>\n",
       "      <td>0.227598</td>\n",
       "      <td>-0.227342</td>\n",
       "    </tr>\n",
       "  </tbody>\n",
       "</table>\n",
       "</div>"
      ],
      "text/plain": [
       "   Volume  Avg Price  Total Sales Value  Discount Rate (%)  Discount Amount  \\\n",
       "0      15      12100             181500          11.654820     21153.498820   \n",
       "1      10      10100             101000          11.560498     11676.102961   \n",
       "2       7      16100             112700           9.456886     10657.910157   \n",
       "3       6      20100             120600           6.935385      8364.074702   \n",
       "4       3       8100              24300          17.995663      4372.946230   \n",
       "\n",
       "   Net Sales Value  new_Volume  new_Avg Price  new_Total Sales Value  \\\n",
       "0    160346.501180    2.347417       0.091072               2.922469   \n",
       "1     89323.897039    1.165831      -0.019548               1.329516   \n",
       "2    102042.089843    0.456880       0.312312               1.561038   \n",
       "3    112235.925298    0.220563       0.533552               1.717365   \n",
       "4     19927.053770   -0.488389      -0.130168              -0.188242   \n",
       "\n",
       "   new_Discount Rate (%)  new_Discount Amount  new_Net Sales Value  \n",
       "0              -0.829365             3.948422             2.801638  \n",
       "1              -0.851714             1.846958             1.269613  \n",
       "2              -1.350129             1.621190             1.543957  \n",
       "3              -1.947555             1.112568             1.763847  \n",
       "4               0.672990             0.227598            -0.227342  "
      ]
     },
     "execution_count": 38,
     "metadata": {},
     "output_type": "execute_result"
    }
   ],
   "source": [
    "mu=df_stats.mean()\n",
    "sigma=df_stats.std()\n",
    "df_stats_new=(df_stats-mu)/sigma\n",
    "df_stats_new=df_stats_new.add_prefix('new_')\n",
    "df_stats_new # standardized data \n",
    "df_stats_combined_new=pd.concat([df_stats,df_stats_new],axis=1)\n",
    "df_stats_combined_new.head() # standardized data along with the original data"
   ]
  },
  {
   "cell_type": "code",
   "execution_count": 39,
   "id": "9291849a-4e1b-42a6-a9e9-92cc7b422269",
   "metadata": {},
   "outputs": [
    {
     "data": {
      "text/plain": [
       "Volume               2.731724\n",
       "Avg Price            1.908873\n",
       "Total Sales Value    1.534729\n",
       "Discount Rate (%)   -1.062294\n",
       "Discount Amount      1.913038\n",
       "Net Sales Value      1.540822\n",
       "dtype: float64"
      ]
     },
     "execution_count": 39,
     "metadata": {},
     "output_type": "execute_result"
    }
   ],
   "source": [
    "df_stats.skew() # the original data skewness"
   ]
  },
  {
   "cell_type": "code",
   "execution_count": 40,
   "id": "8bf4363c-3933-4945-a277-57a02ca0d029",
   "metadata": {},
   "outputs": [
    {
     "data": {
      "text/plain": [
       "new_Volume               2.731724\n",
       "new_Avg Price            1.908873\n",
       "new_Total Sales Value    1.534729\n",
       "new_Discount Rate (%)   -1.062294\n",
       "new_Discount Amount      1.913038\n",
       "new_Net Sales Value      1.540822\n",
       "dtype: float64"
      ]
     },
     "execution_count": 40,
     "metadata": {},
     "output_type": "execute_result"
    },
    {
     "data": {
      "image/png": "[encoded data removed]",
      "text/plain": [
       "<Figure size 1500x1000 with 6 Axes>"
      ]
     },
     "metadata": {},
     "output_type": "display_data"
    }
   ],
   "source": [
    "df_stats_new.hist(bins=10,figsize=(15,10))\n",
    "df_stats_new.skew() # datandarized data skew"
   ]
  },
  {
   "cell_type": "code",
   "execution_count": 41,
   "id": "8bcae8aa-513e-4ccc-a400-caefd4d4421a",
   "metadata": {},
   "outputs": [
    {
     "data": {
      "text/plain": [
       "new_Volume               4.144833e-17\n",
       "new_Avg Price            4.342206e-17\n",
       "new_Total Sales Value    1.578984e-17\n",
       "new_Discount Rate (%)   -4.144833e-17\n",
       "new_Discount Amount     -6.315935e-17\n",
       "new_Net Sales Value      1.973730e-17\n",
       "dtype: float64"
      ]
     },
     "execution_count": 41,
     "metadata": {},
     "output_type": "execute_result"
    }
   ],
   "source": [
    "df_stats_new.mean() # standardized data mean ,which are ~ 0"
   ]
  },
  {
   "cell_type": "code",
   "execution_count": 42,
   "id": "e1d2a8c6-91e9-445e-a200-d4562f24525a",
   "metadata": {},
   "outputs": [
    {
     "data": {
      "text/plain": [
       "Volume                   5.066667\n",
       "Avg Price            10453.433333\n",
       "Total Sales Value    33812.835556\n",
       "Discount Rate (%)       15.155242\n",
       "Discount Amount       3346.499424\n",
       "Net Sales Value      30466.336131\n",
       "dtype: float64"
      ]
     },
     "execution_count": 42,
     "metadata": {},
     "output_type": "execute_result"
    }
   ],
   "source": [
    "df_stats.mean() # mean with no standardization of data "
   ]
  },
  {
   "cell_type": "code",
   "execution_count": 43,
   "id": "56bc3516-9a39-4830-ae5d-f41ecb83023a",
   "metadata": {},
   "outputs": [
    {
     "data": {
      "text/plain": [
       "new_Volume               1.0\n",
       "new_Avg Price            1.0\n",
       "new_Total Sales Value    1.0\n",
       "new_Discount Rate (%)    1.0\n",
       "new_Discount Amount      1.0\n",
       "new_Net Sales Value      1.0\n",
       "dtype: float64"
      ]
     },
     "execution_count": 43,
     "metadata": {},
     "output_type": "execute_result"
    }
   ],
   "source": [
    "df_stats_new.std() # the standardized data standard deviation =1"
   ]
  },
  {
   "cell_type": "code",
   "execution_count": 44,
   "id": "2ae071e1-12c0-4dba-ad25-397d6b848ed9",
   "metadata": {},
   "outputs": [
    {
     "data": {
      "text/plain": [
       "Volume                   4.231602\n",
       "Avg Price            18079.904840\n",
       "Total Sales Value    50535.074173\n",
       "Discount Rate (%)        4.220602\n",
       "Discount Amount       4509.902963\n",
       "Net Sales Value      46358.656624\n",
       "dtype: float64"
      ]
     },
     "execution_count": 44,
     "metadata": {},
     "output_type": "execute_result"
    }
   ],
   "source": [
    "df_stats.std()"
   ]
  },
  {
   "cell_type": "markdown",
   "id": "8dcf79f2-7c65-4966-a321-d48c6db50dcf",
   "metadata": {
    "jp-MarkdownHeadingCollapsed": true
   },
   "source": [
    "#### comparisions before and after data distribution\n",
    "**Brfore scalling:** Columns have different ranges (some spread wide, some narrow).\n",
    "\n",
    "**After scaling :**\n",
    "* All columns are re-centered around 0, with a comparable spread.\n",
    "* Shape of the distribution (skewness, outliers) remains unchanged.\n"
   ]
  },
  {
   "cell_type": "markdown",
   "id": "3b541832-a49d-44be-95e0-466f99cdb03b",
   "metadata": {},
   "source": [
    "## Conversion of Categorical Data into Dummy Variables\n",
    "\n",
    "**We need to convert the categorical data into dummy variables because some machine learning algorithms does not support the string value input ,they need numerical input(ex:0 ot 1).**"
   ]
  },
  {
   "cell_type": "code",
   "execution_count": 45,
   "id": "60f5c472-a4c7-48f6-ae12-2f20313b69ac",
   "metadata": {},
   "outputs": [
    {
     "data": {
      "text/html": [
       "<div>\n",
       "<style scoped>\n",
       "    .dataframe tbody tr th:only-of-type {\n",
       "        vertical-align: middle;\n",
       "    }\n",
       "\n",
       "    .dataframe tbody tr th {\n",
       "        vertical-align: top;\n",
       "    }\n",
       "\n",
       "    .dataframe thead th {\n",
       "        text-align: right;\n",
       "    }\n",
       "</style>\n",
       "<table border=\"1\" class=\"dataframe\">\n",
       "  <thead>\n",
       "    <tr style=\"text-align: right;\">\n",
       "      <th></th>\n",
       "      <th>Date</th>\n",
       "      <th>Day</th>\n",
       "      <th>SKU</th>\n",
       "      <th>City</th>\n",
       "      <th>BU</th>\n",
       "      <th>Brand</th>\n",
       "      <th>Model</th>\n",
       "    </tr>\n",
       "  </thead>\n",
       "  <tbody>\n",
       "    <tr>\n",
       "      <th>0</th>\n",
       "      <td>01-04-2021</td>\n",
       "      <td>Thursday</td>\n",
       "      <td>M01</td>\n",
       "      <td>C</td>\n",
       "      <td>Mobiles</td>\n",
       "      <td>RealU</td>\n",
       "      <td>RU-10</td>\n",
       "    </tr>\n",
       "    <tr>\n",
       "      <th>1</th>\n",
       "      <td>01-04-2021</td>\n",
       "      <td>Thursday</td>\n",
       "      <td>M02</td>\n",
       "      <td>C</td>\n",
       "      <td>Mobiles</td>\n",
       "      <td>RealU</td>\n",
       "      <td>RU-9 Plus</td>\n",
       "    </tr>\n",
       "    <tr>\n",
       "      <th>2</th>\n",
       "      <td>01-04-2021</td>\n",
       "      <td>Thursday</td>\n",
       "      <td>M03</td>\n",
       "      <td>C</td>\n",
       "      <td>Mobiles</td>\n",
       "      <td>YouM</td>\n",
       "      <td>YM-99</td>\n",
       "    </tr>\n",
       "    <tr>\n",
       "      <th>3</th>\n",
       "      <td>01-04-2021</td>\n",
       "      <td>Thursday</td>\n",
       "      <td>M04</td>\n",
       "      <td>C</td>\n",
       "      <td>Mobiles</td>\n",
       "      <td>YouM</td>\n",
       "      <td>YM-99 Plus</td>\n",
       "    </tr>\n",
       "    <tr>\n",
       "      <th>4</th>\n",
       "      <td>01-04-2021</td>\n",
       "      <td>Thursday</td>\n",
       "      <td>M05</td>\n",
       "      <td>C</td>\n",
       "      <td>Mobiles</td>\n",
       "      <td>YouM</td>\n",
       "      <td>YM-98</td>\n",
       "    </tr>\n",
       "  </tbody>\n",
       "</table>\n",
       "</div>"
      ],
      "text/plain": [
       "         Date       Day  SKU City       BU  Brand       Model\n",
       "0  01-04-2021  Thursday  M01    C  Mobiles  RealU       RU-10\n",
       "1  01-04-2021  Thursday  M02    C  Mobiles  RealU   RU-9 Plus\n",
       "2  01-04-2021  Thursday  M03    C  Mobiles   YouM       YM-99\n",
       "3  01-04-2021  Thursday  M04    C  Mobiles   YouM  YM-99 Plus\n",
       "4  01-04-2021  Thursday  M05    C  Mobiles   YouM      YM-98 "
      ]
     },
     "execution_count": 45,
     "metadata": {},
     "output_type": "execute_result"
    }
   ],
   "source": [
    "df_cat.head()"
   ]
  },
  {
   "cell_type": "markdown",
   "id": "beacecd7-0f1f-4102-ab5e-6d762eaed155",
   "metadata": {},
   "source": [
    "* Here we don't take dummy values for the date becouse as it has many unoque values ,if we one-hot encode them ,we will get new column for every date and dataset become huge ,difficult for models."
   ]
  },
  {
   "cell_type": "code",
   "execution_count": 46,
   "id": "3547047f-aaba-4e50-8e1f-eb476c41adbc",
   "metadata": {
    "scrolled": true
   },
   "outputs": [
    {
     "data": {
      "text/html": [
       "<div>\n",
       "<style scoped>\n",
       "    .dataframe tbody tr th:only-of-type {\n",
       "        vertical-align: middle;\n",
       "    }\n",
       "\n",
       "    .dataframe tbody tr th {\n",
       "        vertical-align: top;\n",
       "    }\n",
       "\n",
       "    .dataframe thead th {\n",
       "        text-align: right;\n",
       "    }\n",
       "</style>\n",
       "<table border=\"1\" class=\"dataframe\">\n",
       "  <thead>\n",
       "    <tr style=\"text-align: right;\">\n",
       "      <th></th>\n",
       "      <th>Date</th>\n",
       "      <th>Day_Friday</th>\n",
       "      <th>Day_Monday</th>\n",
       "      <th>Day_Saturday</th>\n",
       "      <th>Day_Sunday</th>\n",
       "      <th>Day_Thursday</th>\n",
       "      <th>Day_Tuesday</th>\n",
       "      <th>Day_Wednesday</th>\n",
       "      <th>SKU_F01</th>\n",
       "      <th>SKU_F02</th>\n",
       "      <th>...</th>\n",
       "      <th>Model_Vedic Cream</th>\n",
       "      <th>Model_Vedic Oil</th>\n",
       "      <th>Model_Vedic Shampoo</th>\n",
       "      <th>Model_W-Casuals</th>\n",
       "      <th>Model_W-Inners</th>\n",
       "      <th>Model_W-Lounge</th>\n",
       "      <th>Model_W-Western</th>\n",
       "      <th>Model_YM-98</th>\n",
       "      <th>Model_YM-99</th>\n",
       "      <th>Model_YM-99 Plus</th>\n",
       "    </tr>\n",
       "  </thead>\n",
       "  <tbody>\n",
       "    <tr>\n",
       "      <th>0</th>\n",
       "      <td>01-04-2021</td>\n",
       "      <td>0</td>\n",
       "      <td>0</td>\n",
       "      <td>0</td>\n",
       "      <td>0</td>\n",
       "      <td>1</td>\n",
       "      <td>0</td>\n",
       "      <td>0</td>\n",
       "      <td>0</td>\n",
       "      <td>0</td>\n",
       "      <td>...</td>\n",
       "      <td>0</td>\n",
       "      <td>0</td>\n",
       "      <td>0</td>\n",
       "      <td>0</td>\n",
       "      <td>0</td>\n",
       "      <td>0</td>\n",
       "      <td>0</td>\n",
       "      <td>0</td>\n",
       "      <td>0</td>\n",
       "      <td>0</td>\n",
       "    </tr>\n",
       "    <tr>\n",
       "      <th>1</th>\n",
       "      <td>01-04-2021</td>\n",
       "      <td>0</td>\n",
       "      <td>0</td>\n",
       "      <td>0</td>\n",
       "      <td>0</td>\n",
       "      <td>1</td>\n",
       "      <td>0</td>\n",
       "      <td>0</td>\n",
       "      <td>0</td>\n",
       "      <td>0</td>\n",
       "      <td>...</td>\n",
       "      <td>0</td>\n",
       "      <td>0</td>\n",
       "      <td>0</td>\n",
       "      <td>0</td>\n",
       "      <td>0</td>\n",
       "      <td>0</td>\n",
       "      <td>0</td>\n",
       "      <td>0</td>\n",
       "      <td>0</td>\n",
       "      <td>0</td>\n",
       "    </tr>\n",
       "    <tr>\n",
       "      <th>2</th>\n",
       "      <td>01-04-2021</td>\n",
       "      <td>0</td>\n",
       "      <td>0</td>\n",
       "      <td>0</td>\n",
       "      <td>0</td>\n",
       "      <td>1</td>\n",
       "      <td>0</td>\n",
       "      <td>0</td>\n",
       "      <td>0</td>\n",
       "      <td>0</td>\n",
       "      <td>...</td>\n",
       "      <td>0</td>\n",
       "      <td>0</td>\n",
       "      <td>0</td>\n",
       "      <td>0</td>\n",
       "      <td>0</td>\n",
       "      <td>0</td>\n",
       "      <td>0</td>\n",
       "      <td>0</td>\n",
       "      <td>1</td>\n",
       "      <td>0</td>\n",
       "    </tr>\n",
       "    <tr>\n",
       "      <th>3</th>\n",
       "      <td>01-04-2021</td>\n",
       "      <td>0</td>\n",
       "      <td>0</td>\n",
       "      <td>0</td>\n",
       "      <td>0</td>\n",
       "      <td>1</td>\n",
       "      <td>0</td>\n",
       "      <td>0</td>\n",
       "      <td>0</td>\n",
       "      <td>0</td>\n",
       "      <td>...</td>\n",
       "      <td>0</td>\n",
       "      <td>0</td>\n",
       "      <td>0</td>\n",
       "      <td>0</td>\n",
       "      <td>0</td>\n",
       "      <td>0</td>\n",
       "      <td>0</td>\n",
       "      <td>0</td>\n",
       "      <td>0</td>\n",
       "      <td>1</td>\n",
       "    </tr>\n",
       "    <tr>\n",
       "      <th>4</th>\n",
       "      <td>01-04-2021</td>\n",
       "      <td>0</td>\n",
       "      <td>0</td>\n",
       "      <td>0</td>\n",
       "      <td>0</td>\n",
       "      <td>1</td>\n",
       "      <td>0</td>\n",
       "      <td>0</td>\n",
       "      <td>0</td>\n",
       "      <td>0</td>\n",
       "      <td>...</td>\n",
       "      <td>0</td>\n",
       "      <td>0</td>\n",
       "      <td>0</td>\n",
       "      <td>0</td>\n",
       "      <td>0</td>\n",
       "      <td>0</td>\n",
       "      <td>0</td>\n",
       "      <td>1</td>\n",
       "      <td>0</td>\n",
       "      <td>0</td>\n",
       "    </tr>\n",
       "    <tr>\n",
       "      <th>...</th>\n",
       "      <td>...</td>\n",
       "      <td>...</td>\n",
       "      <td>...</td>\n",
       "      <td>...</td>\n",
       "      <td>...</td>\n",
       "      <td>...</td>\n",
       "      <td>...</td>\n",
       "      <td>...</td>\n",
       "      <td>...</td>\n",
       "      <td>...</td>\n",
       "      <td>...</td>\n",
       "      <td>...</td>\n",
       "      <td>...</td>\n",
       "      <td>...</td>\n",
       "      <td>...</td>\n",
       "      <td>...</td>\n",
       "      <td>...</td>\n",
       "      <td>...</td>\n",
       "      <td>...</td>\n",
       "      <td>...</td>\n",
       "      <td>...</td>\n",
       "    </tr>\n",
       "    <tr>\n",
       "      <th>445</th>\n",
       "      <td>15-04-2021</td>\n",
       "      <td>0</td>\n",
       "      <td>0</td>\n",
       "      <td>0</td>\n",
       "      <td>0</td>\n",
       "      <td>1</td>\n",
       "      <td>0</td>\n",
       "      <td>0</td>\n",
       "      <td>0</td>\n",
       "      <td>0</td>\n",
       "      <td>...</td>\n",
       "      <td>0</td>\n",
       "      <td>0</td>\n",
       "      <td>0</td>\n",
       "      <td>0</td>\n",
       "      <td>0</td>\n",
       "      <td>0</td>\n",
       "      <td>0</td>\n",
       "      <td>0</td>\n",
       "      <td>0</td>\n",
       "      <td>0</td>\n",
       "    </tr>\n",
       "    <tr>\n",
       "      <th>446</th>\n",
       "      <td>15-04-2021</td>\n",
       "      <td>0</td>\n",
       "      <td>0</td>\n",
       "      <td>0</td>\n",
       "      <td>0</td>\n",
       "      <td>1</td>\n",
       "      <td>0</td>\n",
       "      <td>0</td>\n",
       "      <td>0</td>\n",
       "      <td>0</td>\n",
       "      <td>...</td>\n",
       "      <td>0</td>\n",
       "      <td>0</td>\n",
       "      <td>0</td>\n",
       "      <td>0</td>\n",
       "      <td>0</td>\n",
       "      <td>0</td>\n",
       "      <td>1</td>\n",
       "      <td>0</td>\n",
       "      <td>0</td>\n",
       "      <td>0</td>\n",
       "    </tr>\n",
       "    <tr>\n",
       "      <th>447</th>\n",
       "      <td>15-04-2021</td>\n",
       "      <td>0</td>\n",
       "      <td>0</td>\n",
       "      <td>0</td>\n",
       "      <td>0</td>\n",
       "      <td>1</td>\n",
       "      <td>0</td>\n",
       "      <td>0</td>\n",
       "      <td>0</td>\n",
       "      <td>0</td>\n",
       "      <td>...</td>\n",
       "      <td>0</td>\n",
       "      <td>0</td>\n",
       "      <td>0</td>\n",
       "      <td>0</td>\n",
       "      <td>0</td>\n",
       "      <td>1</td>\n",
       "      <td>0</td>\n",
       "      <td>0</td>\n",
       "      <td>0</td>\n",
       "      <td>0</td>\n",
       "    </tr>\n",
       "    <tr>\n",
       "      <th>448</th>\n",
       "      <td>15-04-2021</td>\n",
       "      <td>0</td>\n",
       "      <td>0</td>\n",
       "      <td>0</td>\n",
       "      <td>0</td>\n",
       "      <td>1</td>\n",
       "      <td>0</td>\n",
       "      <td>0</td>\n",
       "      <td>0</td>\n",
       "      <td>0</td>\n",
       "      <td>...</td>\n",
       "      <td>0</td>\n",
       "      <td>0</td>\n",
       "      <td>0</td>\n",
       "      <td>0</td>\n",
       "      <td>0</td>\n",
       "      <td>0</td>\n",
       "      <td>0</td>\n",
       "      <td>0</td>\n",
       "      <td>0</td>\n",
       "      <td>0</td>\n",
       "    </tr>\n",
       "    <tr>\n",
       "      <th>449</th>\n",
       "      <td>15-04-2021</td>\n",
       "      <td>0</td>\n",
       "      <td>0</td>\n",
       "      <td>0</td>\n",
       "      <td>0</td>\n",
       "      <td>1</td>\n",
       "      <td>0</td>\n",
       "      <td>0</td>\n",
       "      <td>0</td>\n",
       "      <td>0</td>\n",
       "      <td>...</td>\n",
       "      <td>0</td>\n",
       "      <td>0</td>\n",
       "      <td>0</td>\n",
       "      <td>0</td>\n",
       "      <td>0</td>\n",
       "      <td>0</td>\n",
       "      <td>0</td>\n",
       "      <td>0</td>\n",
       "      <td>0</td>\n",
       "      <td>0</td>\n",
       "    </tr>\n",
       "  </tbody>\n",
       "</table>\n",
       "<p>450 rows × 81 columns</p>\n",
       "</div>"
      ],
      "text/plain": [
       "           Date  Day_Friday  Day_Monday  Day_Saturday  Day_Sunday  \\\n",
       "0    01-04-2021           0           0             0           0   \n",
       "1    01-04-2021           0           0             0           0   \n",
       "2    01-04-2021           0           0             0           0   \n",
       "3    01-04-2021           0           0             0           0   \n",
       "4    01-04-2021           0           0             0           0   \n",
       "..          ...         ...         ...           ...         ...   \n",
       "445  15-04-2021           0           0             0           0   \n",
       "446  15-04-2021           0           0             0           0   \n",
       "447  15-04-2021           0           0             0           0   \n",
       "448  15-04-2021           0           0             0           0   \n",
       "449  15-04-2021           0           0             0           0   \n",
       "\n",
       "     Day_Thursday  Day_Tuesday  Day_Wednesday  SKU_F01  SKU_F02  ...  \\\n",
       "0               1            0              0        0        0  ...   \n",
       "1               1            0              0        0        0  ...   \n",
       "2               1            0              0        0        0  ...   \n",
       "3               1            0              0        0        0  ...   \n",
       "4               1            0              0        0        0  ...   \n",
       "..            ...          ...            ...      ...      ...  ...   \n",
       "445             1            0              0        0        0  ...   \n",
       "446             1            0              0        0        0  ...   \n",
       "447             1            0              0        0        0  ...   \n",
       "448             1            0              0        0        0  ...   \n",
       "449             1            0              0        0        0  ...   \n",
       "\n",
       "     Model_Vedic Cream  Model_Vedic Oil  Model_Vedic Shampoo  Model_W-Casuals  \\\n",
       "0                    0                0                    0                0   \n",
       "1                    0                0                    0                0   \n",
       "2                    0                0                    0                0   \n",
       "3                    0                0                    0                0   \n",
       "4                    0                0                    0                0   \n",
       "..                 ...              ...                  ...              ...   \n",
       "445                  0                0                    0                0   \n",
       "446                  0                0                    0                0   \n",
       "447                  0                0                    0                0   \n",
       "448                  0                0                    0                0   \n",
       "449                  0                0                    0                0   \n",
       "\n",
       "     Model_W-Inners  Model_W-Lounge  Model_W-Western  Model_YM-98   \\\n",
       "0                 0               0                0             0   \n",
       "1                 0               0                0             0   \n",
       "2                 0               0                0             0   \n",
       "3                 0               0                0             0   \n",
       "4                 0               0                0             1   \n",
       "..              ...             ...              ...           ...   \n",
       "445               0               0                0             0   \n",
       "446               0               0                1             0   \n",
       "447               0               1                0             0   \n",
       "448               0               0                0             0   \n",
       "449               0               0                0             0   \n",
       "\n",
       "     Model_YM-99  Model_YM-99 Plus  \n",
       "0              0                 0  \n",
       "1              0                 0  \n",
       "2              1                 0  \n",
       "3              0                 1  \n",
       "4              0                 0  \n",
       "..           ...               ...  \n",
       "445            0                 0  \n",
       "446            0                 0  \n",
       "447            0                 0  \n",
       "448            0                 0  \n",
       "449            0                 0  \n",
       "\n",
       "[450 rows x 81 columns]"
      ]
     },
     "execution_count": 46,
     "metadata": {},
     "output_type": "execute_result"
    }
   ],
   "source": [
    "df_cat_dummy=pd.get_dummies(df_cat,columns=['Day','SKU','City','BU','Brand','Model'],dtype=int)\n",
    "df_cat_dummy # one hot encoded data\n"
   ]
  },
  {
   "cell_type": "code",
   "execution_count": 47,
   "id": "5e3ee628-ec28-4617-af25-56157486ece9",
   "metadata": {
    "scrolled": true
   },
   "outputs": [
    {
     "name": "stdout",
     "output_type": "stream",
     "text": [
      "<class 'pandas.core.frame.DataFrame'>\n",
      "RangeIndex: 450 entries, 0 to 449\n",
      "Data columns (total 81 columns):\n",
      " #   Column                Non-Null Count  Dtype \n",
      "---  ------                --------------  ----- \n",
      " 0   Date                  450 non-null    object\n",
      " 1   Day_Friday            450 non-null    int64 \n",
      " 2   Day_Monday            450 non-null    int64 \n",
      " 3   Day_Saturday          450 non-null    int64 \n",
      " 4   Day_Sunday            450 non-null    int64 \n",
      " 5   Day_Thursday          450 non-null    int64 \n",
      " 6   Day_Tuesday           450 non-null    int64 \n",
      " 7   Day_Wednesday         450 non-null    int64 \n",
      " 8   SKU_F01               450 non-null    int64 \n",
      " 9   SKU_F02               450 non-null    int64 \n",
      " 10  SKU_F03               450 non-null    int64 \n",
      " 11  SKU_F04               450 non-null    int64 \n",
      " 12  SKU_F05               450 non-null    int64 \n",
      " 13  SKU_F06               450 non-null    int64 \n",
      " 14  SKU_F07               450 non-null    int64 \n",
      " 15  SKU_F08               450 non-null    int64 \n",
      " 16  SKU_F09               450 non-null    int64 \n",
      " 17  SKU_F10               450 non-null    int64 \n",
      " 18  SKU_L01               450 non-null    int64 \n",
      " 19  SKU_L02               450 non-null    int64 \n",
      " 20  SKU_L03               450 non-null    int64 \n",
      " 21  SKU_L04               450 non-null    int64 \n",
      " 22  SKU_L05               450 non-null    int64 \n",
      " 23  SKU_L06               450 non-null    int64 \n",
      " 24  SKU_L07               450 non-null    int64 \n",
      " 25  SKU_L08               450 non-null    int64 \n",
      " 26  SKU_L09               450 non-null    int64 \n",
      " 27  SKU_L10               450 non-null    int64 \n",
      " 28  SKU_M01               450 non-null    int64 \n",
      " 29  SKU_M02               450 non-null    int64 \n",
      " 30  SKU_M03               450 non-null    int64 \n",
      " 31  SKU_M04               450 non-null    int64 \n",
      " 32  SKU_M05               450 non-null    int64 \n",
      " 33  SKU_M06               450 non-null    int64 \n",
      " 34  SKU_M07               450 non-null    int64 \n",
      " 35  SKU_M08               450 non-null    int64 \n",
      " 36  SKU_M09               450 non-null    int64 \n",
      " 37  SKU_M10               450 non-null    int64 \n",
      " 38  City_C                450 non-null    int64 \n",
      " 39  BU_FMCG               450 non-null    int64 \n",
      " 40  BU_Lifestyle          450 non-null    int64 \n",
      " 41  BU_Mobiles            450 non-null    int64 \n",
      " 42  Brand_Babaji          450 non-null    int64 \n",
      " 43  Brand_Gear            450 non-null    int64 \n",
      " 44  Brand_Jeera           450 non-null    int64 \n",
      " 45  Brand_Orange          450 non-null    int64 \n",
      " 46  Brand_RealU           450 non-null    int64 \n",
      " 47  Brand_Sumsang         450 non-null    int64 \n",
      " 48  Brand_Vedic           450 non-null    int64 \n",
      " 49  Brand_Viva            450 non-null    int64 \n",
      " 50  Brand_YouM            450 non-null    int64 \n",
      " 51  Model_Babaji Cream    450 non-null    int64 \n",
      " 52  Model_Babaji Oil      450 non-null    int64 \n",
      " 53  Model_Babaji Shampoo  450 non-null    int64 \n",
      " 54  Model_Gear BB Cream   450 non-null    int64 \n",
      " 55  Model_Gear Cream      450 non-null    int64 \n",
      " 56  Model_Gear Oil        450 non-null    int64 \n",
      " 57  Model_Gear Shampoo    450 non-null    int64 \n",
      " 58  Model_M- Inners       450 non-null    int64 \n",
      " 59  Model_M- T Shirts     450 non-null    int64 \n",
      " 60  Model_M-Casuals       450 non-null    int64 \n",
      " 61  Model_M-Formals       450 non-null    int64 \n",
      " 62  Model_M-Jeans         450 non-null    int64 \n",
      " 63  Model_M-Shoes         450 non-null    int64 \n",
      " 64  Model_O-10            450 non-null    int64 \n",
      " 65  Model_O-11            450 non-null    int64 \n",
      " 66  Model_RU-10           450 non-null    int64 \n",
      " 67  Model_RU-9            450 non-null    int64 \n",
      " 68  Model_RU-9 Plus       450 non-null    int64 \n",
      " 69  Model_S-20            450 non-null    int64 \n",
      " 70  Model_S-21            450 non-null    int64 \n",
      " 71  Model_Vedic Cream     450 non-null    int64 \n",
      " 72  Model_Vedic Oil       450 non-null    int64 \n",
      " 73  Model_Vedic Shampoo   450 non-null    int64 \n",
      " 74  Model_W-Casuals       450 non-null    int64 \n",
      " 75  Model_W-Inners        450 non-null    int64 \n",
      " 76  Model_W-Lounge        450 non-null    int64 \n",
      " 77  Model_W-Western       450 non-null    int64 \n",
      " 78  Model_YM-98           450 non-null    int64 \n",
      " 79  Model_YM-99           450 non-null    int64 \n",
      " 80  Model_YM-99 Plus      450 non-null    int64 \n",
      "dtypes: int64(80), object(1)\n",
      "memory usage: 284.9+ KB\n"
     ]
    }
   ],
   "source": [
    "df_cat_dummy.info()"
   ]
  },
  {
   "cell_type": "markdown",
   "id": "e8a76687-fe3d-40a7-986e-37daf248381a",
   "metadata": {},
   "source": [
    "## Conclusion\n"
   ]
  },
  {
   "cell_type": "markdown",
   "id": "075ac45b-3f96-4618-b412-0681ace11cae",
   "metadata": {},
   "source": [
    "#### Key findings from descriptive analytics & Visualizations\n",
    "1. **Descriptive analytics:**\n",
    "   * Mean & Median showed the central tendency of variables.\n",
    "   * Standard Deviation revealed variability -some columns had high spread ,while others       were more stable\n",
    "   * Skewness/outliers visible in histograms as ithe skewness is grater than 0 having          right tail and skewness<0 having left tail.\n",
    "2. **Data Visualization:**\n",
    "   * From the Histograms it showing the left tail for the discount rate %  and others          having the right tail.\n",
    "   * From the box plot they are showing the clear proof of outliers in the data columns.\n",
    "   * From the bar chart It showing that most of the sales are on 'Day(Thurshday)' and on       'Brand(zeera)'.\n",
    "#### importance of data preprocessing in data analysis and machine learning\n",
    "1. **standardization:**\n",
    "   * It prevents the variables with large ranges from dominating those with smaller range      values\n",
    "   * It helps in distance based and optimization based algorithms.\n",
    "2. **One-Hot Encoding:**\n",
    "   * One-Hot Encoding converts the text-based catagories into machine readable numeric         format.\n",
    "   * preserves information about catagorical features without introducing artificial           ordering.\n",
    "\n",
    "Descriptive analytics revealed skewed distributions, variability, and outliers in the dataset. Standardization ensured numerical features were on a common scale, while one-hot encoding made categorical data usable for ML models. Together, these preprocessing steps improve accuracy, fairness, and reliability of analysis.\n"
   ]
  }
 ],
 "metadata": {
  "kernelspec": {
   "display_name": "Python 3 (ipykernel)",
   "language": "python",
   "name": "python3"
  },
  "language_info": {
   "codemirror_mode": {
    "name": "ipython",
    "version": 3
   },
   "file_extension": ".py",
   "mimetype": "text/x-python",
   "name": "python",
   "nbconvert_exporter": "python",
   "pygments_lexer": "ipython3",
   "version": "3.13.2"
  }
 },
 "nbformat": 4,
 "nbformat_minor": 5
}
